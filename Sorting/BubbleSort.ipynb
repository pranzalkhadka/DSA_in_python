{
 "cells": [
  {
   "cell_type": "markdown",
   "metadata": {},
   "source": [
    "Bubble sort is where we compare adjacent elements of array and swap the bigger number to the right. This requires array to be passed (n-1) times and requires  n(n-1) comparisons. Hence, worst case time complexity of bubble sort is o(n^2)."
   ]
  },
  {
   "cell_type": "code",
   "execution_count": 2,
   "metadata": {},
   "outputs": [],
   "source": [
    "def bubble_sort(arr):\n",
    "    for i in range(len(arr)-1):\n",
    "        #len(arr) -1 -i to not take the last already sorted elements\n",
    "        #Use flag for making adaptive sorting\n",
    "        flag = 0\n",
    "        for j in range(len(arr)-1-i):\n",
    "            if arr[j] > arr[j+1]:\n",
    "                arr[j], arr[j+1] = arr[j+1], arr[j]\n",
    "                flag = 1\n",
    "\n",
    "        #Break if there is no swapping because that means array is already sorted and no need for rest of comparisons\n",
    "        if flag == 0:\n",
    "            break\n",
    "\n",
    "    print(arr)\n"
   ]
  },
  {
   "cell_type": "code",
   "execution_count": 3,
   "metadata": {},
   "outputs": [],
   "source": [
    "arr = [1,34,2,36,90,67,56,89]"
   ]
  },
  {
   "cell_type": "code",
   "execution_count": 4,
   "metadata": {},
   "outputs": [
    {
     "name": "stdout",
     "output_type": "stream",
     "text": [
      "[1, 2, 34, 36, 56, 67, 89, 90]\n"
     ]
    }
   ],
   "source": [
    "bubble_sort(arr)"
   ]
  },
  {
   "cell_type": "code",
   "execution_count": null,
   "metadata": {},
   "outputs": [],
   "source": []
  }
 ],
 "metadata": {
  "kernelspec": {
   "display_name": "Python 3",
   "language": "python",
   "name": "python3"
  },
  "language_info": {
   "codemirror_mode": {
    "name": "ipython",
    "version": 3
   },
   "file_extension": ".py",
   "mimetype": "text/x-python",
   "name": "python",
   "nbconvert_exporter": "python",
   "pygments_lexer": "ipython3",
   "version": "3.10.12"
  },
  "orig_nbformat": 4
 },
 "nbformat": 4,
 "nbformat_minor": 2
}
