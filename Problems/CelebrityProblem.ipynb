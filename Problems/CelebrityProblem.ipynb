{
 "cells": [
  {
   "cell_type": "markdown",
   "metadata": {},
   "source": [
    "Celebrity Problem is a problem of finding a celebrity among a set of people. Celebrity is that guy who doesnt know anybody but everybody knows him. So, the input data for this problem is a 2*2 matrix where each row and column contains data for a single individual and each cell contains a binary value. A value of 1 means that the person of that corresponding row knows the person of that corresponding column and 0 means doesnt know."
   ]
  },
  {
   "cell_type": "code",
   "execution_count": 23,
   "metadata": {},
   "outputs": [],
   "source": [
    "class Node:\n",
    "    def __init__(self,value):\n",
    "        self.data = value\n",
    "        self.Next = None"
   ]
  },
  {
   "cell_type": "code",
   "execution_count": 28,
   "metadata": {},
   "outputs": [],
   "source": [
    "class stack:\n",
    "    def __init__(self):\n",
    "        self.top = None\n",
    "\n",
    "    def isempty(self):\n",
    "        return self.top == None\n",
    "    \n",
    "    def push(self,value):\n",
    "        new_node = Node(value)\n",
    "        new_node.Next = self.top\n",
    "        self.top = new_node\n",
    "        \n",
    "    def pop(self):\n",
    "        if (self.isempty()):\n",
    "            return \"Stack is empty\"\n",
    "        else:\n",
    "            data = self.top.data\n",
    "            self.top = self.top.Next\n",
    "            return data\n",
    "        \n",
    "    def size(self):\n",
    "        current = self.top\n",
    "        counter = 0\n",
    "\n",
    "        while current is not None:\n",
    "            current = current.Next\n",
    "            counter+=1\n",
    "\n",
    "        return counter"
   ]
  },
  {
   "cell_type": "code",
   "execution_count": 29,
   "metadata": {},
   "outputs": [],
   "source": [
    "L = [\n",
    "    [0,0,1,1],\n",
    "    [0,0,1,0],\n",
    "    [0,0,0,0],\n",
    "    [0,0,1,0]\n",
    "]\n",
    "#Here Considering the 4 persons as 0,1,2,3 , 2 is the celebrity since he doesnt know anyone but everyone knows him"
   ]
  },
  {
   "cell_type": "code",
   "execution_count": 30,
   "metadata": {},
   "outputs": [],
   "source": [
    "def find_celebrity(L):\n",
    "    \n",
    "    s = stack()\n",
    "    \n",
    "    for i in range(len(L)):\n",
    "        s.push(i)\n",
    "\n",
    "    while s.size() >= 2:\n",
    "\n",
    "        i = s.pop()\n",
    "        j = s.pop()\n",
    "\n",
    "        if L[i][j] == 0:\n",
    "            #This means i doesnt know j. So, j is not the celebrity\n",
    "            s.push(i)\n",
    "        else:\n",
    "            #This means i knows j. So, i is not the celebrity\n",
    "            s.push(j)\n",
    "\n",
    "    #Till here we have removed all persons who are definitely not celebrity. When size of stack becomes 1, the while loop will end and\n",
    "    #only one person will be remained in the stack who could probably be a celebrity but not certain yet\n",
    "\n",
    "    Last_person = s.pop()\n",
    "    for i in range(len(L)):\n",
    "\n",
    "        if i != Last_person:\n",
    "            #If any one of i doesnt know the last person, then the last person is also not the celebrity\n",
    "            #Also if the last person knows any i, then also that last person is not celebrity\n",
    "            if L[i][Last_person] == 0 or L[Last_person][i] == 1:\n",
    "                print(\"No one is a celebrity\")\n",
    "\n",
    "    #If the whole loop runs without returning then the last person is the celebrity\n",
    "    print(f\"The celebrity is {Last_person}\")"
   ]
  },
  {
   "cell_type": "code",
   "execution_count": 31,
   "metadata": {},
   "outputs": [
    {
     "name": "stdout",
     "output_type": "stream",
     "text": [
      "The celebrity is 2\n"
     ]
    }
   ],
   "source": [
    "find_celebrity(L)"
   ]
  },
  {
   "cell_type": "code",
   "execution_count": null,
   "metadata": {},
   "outputs": [],
   "source": []
  },
  {
   "cell_type": "code",
   "execution_count": null,
   "metadata": {},
   "outputs": [],
   "source": []
  }
 ],
 "metadata": {
  "kernelspec": {
   "display_name": "Python 3",
   "language": "python",
   "name": "python3"
  },
  "language_info": {
   "codemirror_mode": {
    "name": "ipython",
    "version": 3
   },
   "file_extension": ".py",
   "mimetype": "text/x-python",
   "name": "python",
   "nbconvert_exporter": "python",
   "pygments_lexer": "ipython3",
   "version": "3.10.12"
  },
  "orig_nbformat": 4
 },
 "nbformat": 4,
 "nbformat_minor": 2
}
