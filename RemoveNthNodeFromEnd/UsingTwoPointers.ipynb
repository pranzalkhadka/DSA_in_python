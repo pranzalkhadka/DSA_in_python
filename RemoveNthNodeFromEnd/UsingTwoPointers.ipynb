{
 "cells": [
  {
   "cell_type": "code",
   "execution_count": null,
   "metadata": {},
   "outputs": [],
   "source": [
    "class Solution(object):\n",
    "    def removeNthFromEnd(self, head, n):\n",
    "        dummy = ListNode(0, head)\n",
    "        left, right = dummy, head\n",
    "        while n >0 and right:\n",
    "            right = right.next\n",
    "            n -= 1\n",
    "        \n",
    "        while(right != None):\n",
    "            left = left.next\n",
    "            right = right.next\n",
    "        \n",
    "        left.next = left.next.next\n",
    "\n",
    "        return dummy.next"
   ]
  }
 ],
 "metadata": {
  "language_info": {
   "name": "python"
  }
 },
 "nbformat": 4,
 "nbformat_minor": 2
}
