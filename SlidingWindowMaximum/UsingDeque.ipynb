{
 "cells": [
  {
   "cell_type": "code",
   "execution_count": 1,
   "metadata": {},
   "outputs": [],
   "source": [
    "import collections\n",
    "class Solution(object):\n",
    "    def maxSlidingWindow(self, nums, k):\n",
    "        result = []\n",
    "        #Store the indices\n",
    "        q = collections.deque()\n",
    "        l = r = 0\n",
    "\n",
    "        while (r < len(nums)):\n",
    "            #While queue exists and rightmost value in queue is less than the value we are inserting\n",
    "            while q and nums[q[-1]] < nums[r]:\n",
    "                q.pop()\n",
    "            q.append(r)\n",
    "\n",
    "            if l > q[0]:\n",
    "                q.popleft()\n",
    "\n",
    "            if (r + 1) >= k:\n",
    "                result.append(nums[q[0]])\n",
    "                l += 1\n",
    "            r += 1\n",
    "        \n",
    "        return result"
   ]
  },
  {
   "cell_type": "code",
   "execution_count": 2,
   "metadata": {},
   "outputs": [
    {
     "data": {
      "text/plain": [
       "[3, 3, 5, 5, 6, 7]"
      ]
     },
     "execution_count": 2,
     "metadata": {},
     "output_type": "execute_result"
    }
   ],
   "source": [
    "obj = Solution()\n",
    "nums = [1,3,-1,-3,5,3,6,7]\n",
    "k = 3\n",
    "obj.maxSlidingWindow(nums,k)"
   ]
  },
  {
   "cell_type": "code",
   "execution_count": null,
   "metadata": {},
   "outputs": [],
   "source": []
  }
 ],
 "metadata": {
  "kernelspec": {
   "display_name": "Python 3",
   "language": "python",
   "name": "python3"
  },
  "language_info": {
   "codemirror_mode": {
    "name": "ipython",
    "version": 3
   },
   "file_extension": ".py",
   "mimetype": "text/x-python",
   "name": "python",
   "nbconvert_exporter": "python",
   "pygments_lexer": "ipython3",
   "version": "3.10.12"
  }
 },
 "nbformat": 4,
 "nbformat_minor": 2
}
