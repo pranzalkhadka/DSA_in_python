{
 "cells": [
  {
   "cell_type": "code",
   "execution_count": 26,
   "metadata": {},
   "outputs": [],
   "source": [
    "class TimeMap(object):\n",
    "\n",
    "    def __init__(self):\n",
    "        #In this hashmap, key = string, value = [list of [value,timestamp]]\n",
    "        #Each key can have multiple pair of (value,timestamp) where timestamp is always in increasing order\n",
    "        self.store = {} \n",
    "        \n",
    "\n",
    "    def set(self, key, value, timestamp):\n",
    "        if key not in self.store:\n",
    "            self.store[key] = []\n",
    "        self.store[key].append([value,timestamp])\n",
    "        \n",
    "\n",
    "    def get(self, key, timestamp):\n",
    "        result = ''\n",
    "        #return the list of values associated with the key if found\n",
    "        #If not found, return empty list\n",
    "        values = self.store.get(key, [])\n",
    "\n",
    "        l, r = 0 , len(values)-1\n",
    "        while(l<=r):\n",
    "            m = (l+r) //2\n",
    "            #Since values is a pair of (value,timestamp), we are looking for timestamp. So taking the second value using [m][1]\n",
    "            if values[m][1] <= timestamp:\n",
    "                result = values[m][0]\n",
    "                l = m + 1\n",
    "            else:\n",
    "                r = m - 1\n",
    "\n",
    "        return result\n"
   ]
  },
  {
   "cell_type": "code",
   "execution_count": 27,
   "metadata": {},
   "outputs": [
    {
     "name": "stdout",
     "output_type": "stream",
     "text": [
      "['bar', 'bar', 'bar2', 'bar2']\n"
     ]
    }
   ],
   "source": [
    "time_map = TimeMap()\n",
    "\n",
    "commands = [\"TimeMap\", \"set\", \"get\", \"get\", \"set\", \"get\", \"get\"]\n",
    "inputs = [[], [\"foo\", \"bar\", 1], [\"foo\", 1], [\"foo\", 3], [\"foo\", \"bar2\", 4], [\"foo\", 4], [\"foo\", 5]]\n",
    "\n",
    "results = []\n",
    "\n",
    "for i in range(len(commands)):\n",
    "    command = commands[i]\n",
    "    input_args = inputs[i]\n",
    "\n",
    "    if command == \"TimeMap\":\n",
    "        time_map = TimeMap()\n",
    "    elif command == \"set\":\n",
    "        time_map.set(*input_args)\n",
    "    elif command == \"get\":\n",
    "        result = time_map.get(*input_args)\n",
    "        results.append(result)\n",
    "\n",
    "print(results)"
   ]
  },
  {
   "cell_type": "code",
   "execution_count": null,
   "metadata": {},
   "outputs": [],
   "source": []
  }
 ],
 "metadata": {
  "kernelspec": {
   "display_name": "Python 3",
   "language": "python",
   "name": "python3"
  },
  "language_info": {
   "codemirror_mode": {
    "name": "ipython",
    "version": 3
   },
   "file_extension": ".py",
   "mimetype": "text/x-python",
   "name": "python",
   "nbconvert_exporter": "python",
   "pygments_lexer": "ipython3",
   "version": "3.10.12"
  }
 },
 "nbformat": 4,
 "nbformat_minor": 2
}
