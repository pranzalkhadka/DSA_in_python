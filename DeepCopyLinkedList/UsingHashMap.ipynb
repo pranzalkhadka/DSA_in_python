{
 "cells": [
  {
   "cell_type": "code",
   "execution_count": null,
   "metadata": {},
   "outputs": [],
   "source": [
    "class Solution(object):\n",
    "    def copyRandomList(self, head):\n",
    "        hashMap = {None: None}\n",
    "        curr = head\n",
    "\n",
    "        #First create a copy of the linkedlist and add it to the hashmap\n",
    "        while curr:\n",
    "            copy = Node(curr.val)\n",
    "            hashMap[curr] = copy\n",
    "            curr = curr.next\n",
    "\n",
    "        #Now just retrieve the next and random links from hashmap and fit it in the copy of the linkedlist\n",
    "        curr = head\n",
    "        while curr:\n",
    "            copy = hashMap[curr]\n",
    "            copy.next = hashMap[curr.next]\n",
    "            copy.random = hashMap[curr.random]\n",
    "            curr = curr.next\n",
    "\n",
    "        return hashMap[head]"
   ]
  }
 ],
 "metadata": {
  "language_info": {
   "name": "python"
  }
 },
 "nbformat": 4,
 "nbformat_minor": 2
}
