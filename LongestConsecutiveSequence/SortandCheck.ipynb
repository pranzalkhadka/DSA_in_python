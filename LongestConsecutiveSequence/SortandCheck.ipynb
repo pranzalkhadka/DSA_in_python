{
 "cells": [
  {
   "cell_type": "code",
   "execution_count": 52,
   "metadata": {},
   "outputs": [],
   "source": [
    "class Solution:\n",
    "    def longestConsecutive(self,arr):\n",
    "        if len(arr) == 0:\n",
    "            return 0\n",
    "        \n",
    "        arr = sorted(arr)\n",
    "        \n",
    "        count = 1\n",
    "        max_count =1\n",
    "\n",
    "        for i in range(len(arr)-1):\n",
    "            if arr[i] == arr[i+1]:\n",
    "                continue\n",
    "            if arr[i] == arr[i+1] - 1:\n",
    "                count = count + 1\n",
    "            else:\n",
    "                count = 1\n",
    "            max_count = max(max_count,count)\n",
    "\n",
    "        return max_count\n"
   ]
  },
  {
   "cell_type": "code",
   "execution_count": 53,
   "metadata": {},
   "outputs": [],
   "source": [
    "obj = Solution()"
   ]
  },
  {
   "cell_type": "code",
   "execution_count": 54,
   "metadata": {},
   "outputs": [],
   "source": [
    "nums1 = [100,4,200,1,3,2]\n",
    "nums2 = [0,3,7,2,5,8,4,6,0,1]\n",
    "nums3 = [9,1,4,7,3,-1,0,5,8,-1,6]"
   ]
  },
  {
   "cell_type": "code",
   "execution_count": 55,
   "metadata": {},
   "outputs": [
    {
     "data": {
      "text/plain": [
       "7"
      ]
     },
     "execution_count": 55,
     "metadata": {},
     "output_type": "execute_result"
    }
   ],
   "source": [
    "obj.longestConsecutive(nums3)"
   ]
  },
  {
   "cell_type": "code",
   "execution_count": null,
   "metadata": {},
   "outputs": [],
   "source": []
  }
 ],
 "metadata": {
  "kernelspec": {
   "display_name": "Python 3",
   "language": "python",
   "name": "python3"
  },
  "language_info": {
   "codemirror_mode": {
    "name": "ipython",
    "version": 3
   },
   "file_extension": ".py",
   "mimetype": "text/x-python",
   "name": "python",
   "nbconvert_exporter": "python",
   "pygments_lexer": "ipython3",
   "version": "3.10.12"
  }
 },
 "nbformat": 4,
 "nbformat_minor": 2
}
