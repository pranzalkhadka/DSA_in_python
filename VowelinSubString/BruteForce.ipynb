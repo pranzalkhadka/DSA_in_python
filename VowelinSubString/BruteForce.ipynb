{
 "cells": [
  {
   "cell_type": "code",
   "execution_count": 1,
   "metadata": {},
   "outputs": [],
   "source": [
    "def count(str):\n",
    "    count = 0\n",
    "    for i in range(len(str)):\n",
    "        if str[i] == 'a' or str[i]== 'e' or str[i] == 'i' or str[i] == 'o' or str[i] == 'u':\n",
    "            count = count + 1\n",
    "    return count\n",
    "def findSubstring(s, k):\n",
    "    maxVowel = 0\n",
    "    result = None\n",
    "    for i in range(len(s)-k+1):\n",
    "        chunk = s[i:i+k]\n",
    "        if len(chunk) == k:\n",
    "            vowel_count = count(chunk)\n",
    "            if vowel_count > maxVowel:\n",
    "                result = chunk\n",
    "    if result == None:\n",
    "        return \"Not found!\"\n",
    "    return result"
   ]
  },
  {
   "cell_type": "code",
   "execution_count": 2,
   "metadata": {},
   "outputs": [
    {
     "name": "stdout",
     "output_type": "stream",
     "text": [
      "erdii\n"
     ]
    }
   ],
   "source": [
    "a = 'azerdii'\n",
    "k = 5\n",
    "substring = findSubstring(a, k)\n",
    "print(substring)"
   ]
  },
  {
   "cell_type": "code",
   "execution_count": null,
   "metadata": {},
   "outputs": [],
   "source": []
  }
 ],
 "metadata": {
  "kernelspec": {
   "display_name": "Python 3",
   "language": "python",
   "name": "python3"
  },
  "language_info": {
   "codemirror_mode": {
    "name": "ipython",
    "version": 3
   },
   "file_extension": ".py",
   "mimetype": "text/x-python",
   "name": "python",
   "nbconvert_exporter": "python",
   "pygments_lexer": "ipython3",
   "version": "3.10.12"
  }
 },
 "nbformat": 4,
 "nbformat_minor": 2
}
