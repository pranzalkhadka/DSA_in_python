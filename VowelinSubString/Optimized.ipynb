{
 "cells": [
  {
   "cell_type": "code",
   "execution_count": 3,
   "metadata": {},
   "outputs": [],
   "source": [
    "def count_vowels(s):\n",
    "    count = 0\n",
    "    for char in s:\n",
    "        if char in 'aeiou':\n",
    "            count += 1\n",
    "    return count\n",
    "\n",
    "def findSubstring(s, k):\n",
    "    max_vowel = 0\n",
    "    result = None\n",
    "    max_vowel_count = 0\n",
    "\n",
    "    for i in range(len(s) - k + 1):\n",
    "        if i == 0:\n",
    "            chunk = s[:k] \n",
    "            vowel_count = count_vowels(chunk)\n",
    "        else:\n",
    "            prev_char = s[i - 1]\n",
    "            next_char = s[i + k - 1]\n",
    "            if prev_char in 'aeiou':\n",
    "                vowel_count -= 1\n",
    "            if next_char in 'aeiou':\n",
    "                vowel_count += 1\n",
    "\n",
    "        if vowel_count > max_vowel_count:\n",
    "            max_vowel_count = vowel_count\n",
    "            result = s[i:i+k]\n",
    "\n",
    "    if result is None:\n",
    "        return \"Not found!\"\n",
    "    return result\n"
   ]
  },
  {
   "cell_type": "code",
   "execution_count": 4,
   "metadata": {},
   "outputs": [
    {
     "name": "stdout",
     "output_type": "stream",
     "text": [
      "erdii\n"
     ]
    }
   ],
   "source": [
    "a = 'azerdii'\n",
    "k = 5\n",
    "substring = findSubstring(a, k)\n",
    "print(substring)"
   ]
  },
  {
   "cell_type": "code",
   "execution_count": null,
   "metadata": {},
   "outputs": [],
   "source": []
  }
 ],
 "metadata": {
  "kernelspec": {
   "display_name": "Python 3",
   "language": "python",
   "name": "python3"
  },
  "language_info": {
   "codemirror_mode": {
    "name": "ipython",
    "version": 3
   },
   "file_extension": ".py",
   "mimetype": "text/x-python",
   "name": "python",
   "nbconvert_exporter": "python",
   "pygments_lexer": "ipython3",
   "version": "3.10.12"
  }
 },
 "nbformat": 4,
 "nbformat_minor": 2
}
