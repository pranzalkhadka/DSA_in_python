{
 "cells": [
  {
   "cell_type": "code",
   "execution_count": 1,
   "metadata": {},
   "outputs": [],
   "source": [
    "class Solution(object):\n",
    "    def minWindow(self, s, t):\n",
    "        if t == \"\" : return \"\"\n",
    "\n",
    "        countT, window = {} , {}\n",
    "        for i in t:\n",
    "            countT[i] = 1 + countT.get(i, 0)\n",
    "        \n",
    "        have, need = 0, len(countT)\n",
    "        #res will have [l,r] at some point in string. so Initialize with -1, -1\n",
    "        res, resLength = [-1, -1], float(\"infinity\")\n",
    "        l = 0\n",
    "\n",
    "        for r in range(len(s)):\n",
    "            c = s[r]\n",
    "            window[c] = 1 + window.get(c, 0)\n",
    "\n",
    "            if c in countT and window[c] == countT[c]:\n",
    "                have += 1\n",
    "\n",
    "            while have == need:\n",
    "                if (r-l+1) < resLength:\n",
    "                    res = [l,r]\n",
    "                    resLength = (r- l+ 1)\n",
    "                \n",
    "                window[s[l]] -= 1\n",
    "                if s[l] in countT and window[s[l]] < countT[s[l]]:\n",
    "                    have -= 1\n",
    "                \n",
    "                l += 1\n",
    "\n",
    "        l, r = res\n",
    "        #There might not be a solution so we have to handle that edge case\n",
    "        return s[l:r+1] if resLength != float(\"infinity\") else \"\""
   ]
  },
  {
   "cell_type": "code",
   "execution_count": 2,
   "metadata": {},
   "outputs": [
    {
     "data": {
      "text/plain": [
       "'BANC'"
      ]
     },
     "execution_count": 2,
     "metadata": {},
     "output_type": "execute_result"
    }
   ],
   "source": [
    "obj = Solution()\n",
    "s = \"ADOBECODEBANC\"\n",
    "t = \"ABC\"\n",
    "obj.minWindow(s,t)"
   ]
  },
  {
   "cell_type": "code",
   "execution_count": null,
   "metadata": {},
   "outputs": [],
   "source": []
  }
 ],
 "metadata": {
  "kernelspec": {
   "display_name": "Python 3",
   "language": "python",
   "name": "python3"
  },
  "language_info": {
   "codemirror_mode": {
    "name": "ipython",
    "version": 3
   },
   "file_extension": ".py",
   "mimetype": "text/x-python",
   "name": "python",
   "nbconvert_exporter": "python",
   "pygments_lexer": "ipython3",
   "version": "3.10.12"
  }
 },
 "nbformat": 4,
 "nbformat_minor": 2
}
