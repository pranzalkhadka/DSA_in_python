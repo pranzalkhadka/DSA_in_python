{
 "cells": [
  {
   "cell_type": "code",
   "execution_count": 1,
   "metadata": {},
   "outputs": [],
   "source": [
    "class Node:\n",
    "    def __init__(self,value):\n",
    "        self.data = value\n",
    "        self.Next = None"
   ]
  },
  {
   "cell_type": "code",
   "execution_count": 28,
   "metadata": {},
   "outputs": [],
   "source": [
    "class stack:\n",
    "    def __init__(self):\n",
    "        self.top = None\n",
    "\n",
    "    def isempty(self):\n",
    "        #returns True if the stack is empty else returns false\n",
    "        return self.top == None\n",
    "    \n",
    "    def push(self,value):\n",
    "        #Just like pushing an item in head node\n",
    "        new_node = Node(value)\n",
    "        new_node.Next = self.top\n",
    "        self.top = new_node\n",
    "\n",
    "    def peek(self):\n",
    "        if (self.isempty()):\n",
    "            return \"Stack is empty\"\n",
    "        else:\n",
    "            return self.top.data\n",
    "        \n",
    "    def pop(self):\n",
    "        if (self.isempty()):\n",
    "            return \"Stack is empty\"\n",
    "        else:\n",
    "            data = self.top.data\n",
    "            self.top = self.top.Next\n",
    "            return data\n",
    "        \n",
    "    def size(self):\n",
    "        current = self.top\n",
    "        counter = 0\n",
    "\n",
    "        while current is not None:\n",
    "            current = current.Next\n",
    "            counter+=1\n",
    "\n",
    "        return counter\n",
    "\n",
    "    def traverse(self):\n",
    "\n",
    "        current = self.top\n",
    "        \n",
    "        while current != None:\n",
    "            print(current.data)\n",
    "            current = current.Next"
   ]
  },
  {
   "cell_type": "code",
   "execution_count": 29,
   "metadata": {},
   "outputs": [],
   "source": [
    "S = stack()"
   ]
  },
  {
   "cell_type": "code",
   "execution_count": 30,
   "metadata": {},
   "outputs": [
    {
     "data": {
      "text/plain": [
       "True"
      ]
     },
     "execution_count": 30,
     "metadata": {},
     "output_type": "execute_result"
    }
   ],
   "source": [
    "S.isempty()"
   ]
  },
  {
   "cell_type": "code",
   "execution_count": 31,
   "metadata": {},
   "outputs": [],
   "source": [
    "S.push(4)"
   ]
  },
  {
   "cell_type": "code",
   "execution_count": 32,
   "metadata": {},
   "outputs": [
    {
     "name": "stdout",
     "output_type": "stream",
     "text": [
      "4\n"
     ]
    }
   ],
   "source": [
    "S.traverse()"
   ]
  },
  {
   "cell_type": "code",
   "execution_count": 33,
   "metadata": {},
   "outputs": [],
   "source": [
    "S.push(5)\n",
    "S.push(1)\n",
    "S.push(9)\n",
    "S.push(8)"
   ]
  },
  {
   "cell_type": "code",
   "execution_count": 34,
   "metadata": {},
   "outputs": [
    {
     "name": "stdout",
     "output_type": "stream",
     "text": [
      "8\n",
      "9\n",
      "1\n",
      "5\n",
      "4\n"
     ]
    }
   ],
   "source": [
    "S.traverse()"
   ]
  },
  {
   "cell_type": "code",
   "execution_count": 35,
   "metadata": {},
   "outputs": [
    {
     "data": {
      "text/plain": [
       "8"
      ]
     },
     "execution_count": 35,
     "metadata": {},
     "output_type": "execute_result"
    }
   ],
   "source": [
    "S.peek()"
   ]
  },
  {
   "cell_type": "code",
   "execution_count": 36,
   "metadata": {},
   "outputs": [
    {
     "data": {
      "text/plain": [
       "8"
      ]
     },
     "execution_count": 36,
     "metadata": {},
     "output_type": "execute_result"
    }
   ],
   "source": [
    "S.pop()"
   ]
  },
  {
   "cell_type": "code",
   "execution_count": 37,
   "metadata": {},
   "outputs": [
    {
     "data": {
      "text/plain": [
       "9"
      ]
     },
     "execution_count": 37,
     "metadata": {},
     "output_type": "execute_result"
    }
   ],
   "source": [
    "S.peek()"
   ]
  },
  {
   "cell_type": "code",
   "execution_count": 43,
   "metadata": {},
   "outputs": [],
   "source": [
    "def string_reverse(text):\n",
    "\n",
    "    s = stack()\n",
    "\n",
    "    for i in text:\n",
    "        s.push(i)\n",
    "\n",
    "    reversed_string = ''\n",
    "    while(not s.isempty()):\n",
    "        reversed_string = reversed_string + s.pop() \n",
    "    \n",
    "    print(reversed_string)"
   ]
  },
  {
   "cell_type": "code",
   "execution_count": 45,
   "metadata": {},
   "outputs": [
    {
     "name": "stdout",
     "output_type": "stream",
     "text": [
      "lajnarP\n"
     ]
    }
   ],
   "source": [
    "string_reverse('Pranjal')"
   ]
  },
  {
   "cell_type": "code",
   "execution_count": 48,
   "metadata": {},
   "outputs": [],
   "source": [
    "def text_editor(text,pattern):\n",
    "    #This function performs a pattern of undo and redo operations on a string\n",
    "    #text is the input text and pattern is the series of undo and redo operations\n",
    "\n",
    "    #2 stacks will be used to solve this problem\n",
    "    u = stack()\n",
    "    r = stack()\n",
    "\n",
    "    for i in text:\n",
    "        u.push(i)\n",
    "\n",
    "    for i in pattern:\n",
    "        if i == 'u':\n",
    "            #if i == u , it is undo operation\n",
    "            data = u.pop()\n",
    "            r.push(data)\n",
    "        else:\n",
    "            #else it is redo operation\n",
    "            data = r.pop()\n",
    "            u.push(data)\n",
    "\n",
    "    result = ''\n",
    "\n",
    "    while (not u.isempty()):\n",
    "        result = u.pop() + result\n",
    "\n",
    "    print(result)\n",
    "    "
   ]
  },
  {
   "cell_type": "code",
   "execution_count": 49,
   "metadata": {},
   "outputs": [
    {
     "name": "stdout",
     "output_type": "stream",
     "text": [
      "hel\n"
     ]
    }
   ],
   "source": [
    "text_editor(\"hello\",\"uuur\")"
   ]
  },
  {
   "cell_type": "code",
   "execution_count": null,
   "metadata": {},
   "outputs": [],
   "source": []
  }
 ],
 "metadata": {
  "kernelspec": {
   "display_name": "Python 3",
   "language": "python",
   "name": "python3"
  },
  "language_info": {
   "codemirror_mode": {
    "name": "ipython",
    "version": 3
   },
   "file_extension": ".py",
   "mimetype": "text/x-python",
   "name": "python",
   "nbconvert_exporter": "python",
   "pygments_lexer": "ipython3",
   "version": "3.10.12"
  },
  "orig_nbformat": 4
 },
 "nbformat": 4,
 "nbformat_minor": 2
}
