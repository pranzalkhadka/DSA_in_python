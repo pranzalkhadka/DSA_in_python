{
 "cells": [
  {
   "cell_type": "code",
   "execution_count": 1,
   "metadata": {},
   "outputs": [],
   "source": [
    "class Solution(object):\n",
    "    def characterReplacement(self, s, k):\n",
    "        count = {}\n",
    "        result = 0\n",
    "        l = 0\n",
    "        for r in range(len(s)):\n",
    "            #For character at position r, increment the count of it\n",
    "            #If character doesnt exist in hashmap, count.get will return 0\n",
    "            count[s[r]] = 1 + count.get(s[r],0)\n",
    "            #If number of replacement to do is greater than the number of replacement we are allowed to do\n",
    "            #(r-l+1) - max(count.values()). This value is the number of replacement we need to do\n",
    "            #k is the maximum replacement we are allowed to do\n",
    "            while (r-l+1) - max(count.values()) > k:\n",
    "                count[s[l]] = count[s[l]] - 1\n",
    "                l = l + 1\n",
    "            result = max(result,r-l+1)\n",
    "        return result"
   ]
  },
  {
   "cell_type": "code",
   "execution_count": 2,
   "metadata": {},
   "outputs": [
    {
     "data": {
      "text/plain": [
       "4"
      ]
     },
     "execution_count": 2,
     "metadata": {},
     "output_type": "execute_result"
    }
   ],
   "source": [
    "obj = Solution()\n",
    "s = \"ABAB\"\n",
    "k = 2\n",
    "obj.characterReplacement(s,k)"
   ]
  },
  {
   "cell_type": "code",
   "execution_count": null,
   "metadata": {},
   "outputs": [],
   "source": []
  }
 ],
 "metadata": {
  "kernelspec": {
   "display_name": "Python 3",
   "language": "python",
   "name": "python3"
  },
  "language_info": {
   "codemirror_mode": {
    "name": "ipython",
    "version": 3
   },
   "file_extension": ".py",
   "mimetype": "text/x-python",
   "name": "python",
   "nbconvert_exporter": "python",
   "pygments_lexer": "ipython3",
   "version": "3.10.12"
  }
 },
 "nbformat": 4,
 "nbformat_minor": 2
}
