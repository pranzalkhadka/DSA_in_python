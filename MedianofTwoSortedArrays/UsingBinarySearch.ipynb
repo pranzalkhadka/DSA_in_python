{
 "cells": [
  {
   "cell_type": "code",
   "execution_count": 9,
   "metadata": {},
   "outputs": [],
   "source": [
    "#The problem is to find the median of the array formed by merging two sorted arrays.\n",
    "#To do this in O(log(m+n)) where m and n are size of arrays, we need to find the median without actually merging the arrays"
   ]
  },
  {
   "cell_type": "code",
   "execution_count": 10,
   "metadata": {},
   "outputs": [],
   "source": [
    "class Solution:\n",
    "    def findMedianSortedArrays(self, nums1, nums2):\n",
    "        A, B = nums1, nums2\n",
    "        total = len(nums1) + len(nums2)\n",
    "        half = total // 2\n",
    "        #Since we will perform binary search on only one array, we will choose the smaller one\n",
    "        if len(B) < len(A):\n",
    "            A, B = B, A\n",
    "        \n",
    "        l, r = 0, len(A)-1\n",
    "        while True:\n",
    "            i = (l+r)//2\n",
    "            j = half - i - 2\n",
    "\n",
    "            Aleft = A[i] if i >= 0 else float(\"-infinity\")\n",
    "            Aright = A[i+1] if (i+1) < len(A) else float(\"infinity\")\n",
    "            Bleft = B[j] if j >= 0 else float(\"-infinity\")\n",
    "            Bright = B[j+1] if (j+1) < len(B) else float(\"infinity\")\n",
    "\n",
    "            #This means if partition is correct\n",
    "            if Aleft <= Bright and Bleft <= Aright:\n",
    "                #Odd case\n",
    "                if total % 2:\n",
    "                    return min(Aright,Bright)\n",
    "                #Even Case\n",
    "                return (max(Aleft,Bleft) + min(Aright,Bright))/2\n",
    "                #return (max(Aleft,Bleft) + min(Aright,Bright))/float(2)\n",
    "            elif Aleft > Bright:\n",
    "                r = i -1\n",
    "            else:\n",
    "                l = i + 1"
   ]
  },
  {
   "cell_type": "code",
   "execution_count": 11,
   "metadata": {},
   "outputs": [
    {
     "data": {
      "text/plain": [
       "2.5"
      ]
     },
     "execution_count": 11,
     "metadata": {},
     "output_type": "execute_result"
    }
   ],
   "source": [
    "obj = Solution()\n",
    "nums1 = [1,2]\n",
    "nums2 = [3,4]\n",
    "obj.findMedianSortedArrays(nums1,nums2)"
   ]
  },
  {
   "cell_type": "code",
   "execution_count": null,
   "metadata": {},
   "outputs": [],
   "source": []
  }
 ],
 "metadata": {
  "kernelspec": {
   "display_name": "Python 3",
   "language": "python",
   "name": "python3"
  },
  "language_info": {
   "codemirror_mode": {
    "name": "ipython",
    "version": 3
   },
   "file_extension": ".py",
   "mimetype": "text/x-python",
   "name": "python",
   "nbconvert_exporter": "python",
   "pygments_lexer": "ipython3",
   "version": "3.10.12"
  }
 },
 "nbformat": 4,
 "nbformat_minor": 2
}
