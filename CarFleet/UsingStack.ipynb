{
 "cells": [
  {
   "cell_type": "code",
   "execution_count": 2,
   "metadata": {},
   "outputs": [],
   "source": [
    "#For this, we will first sort the cars in increasing position\n",
    "#Then from the last, we calculate time to reach the destination/target\n",
    "#If a car has time more than its predecessor, it means that the predecessor car collides at some point and has to reduce the speed.\n",
    "# Hence, they both reach the destination at same time and position and will be called a single car fleet"
   ]
  },
  {
   "cell_type": "code",
   "execution_count": 3,
   "metadata": {},
   "outputs": [],
   "source": [
    "class Solution(object):\n",
    "    def carFleet(self, target, position, speed):\n",
    "        #Iterate through the position and speed arrays and store them in a single array having (position,speed) pair as single value\n",
    "        pair = [[p,s] for p,s in zip(position,speed)]\n",
    "        stack = []\n",
    "\n",
    "        #Iterate through the sorted pairs from last or reverse order\n",
    "        for p,s in sorted(pair)[::-1]:\n",
    "            #append the speed to stack\n",
    "            stack.append((target-p)/s)\n",
    "            #stack.append((target-p)/float(s))\n",
    "            #If len(stack) == 1 , it means there is just one car so there's nothing to do\n",
    "            if len(stack) >= 2 and stack[-1] <= stack[-2]:\n",
    "                stack.pop()\n",
    "        \n",
    "        return len(stack)"
   ]
  },
  {
   "cell_type": "code",
   "execution_count": 4,
   "metadata": {},
   "outputs": [],
   "source": [
    "obj = Solution()"
   ]
  },
  {
   "cell_type": "code",
   "execution_count": 5,
   "metadata": {},
   "outputs": [],
   "source": [
    "target = 10\n",
    "position = [6,8]\n",
    "speed = [3,2]"
   ]
  },
  {
   "cell_type": "code",
   "execution_count": 6,
   "metadata": {},
   "outputs": [
    {
     "data": {
      "text/plain": [
       "2"
      ]
     },
     "execution_count": 6,
     "metadata": {},
     "output_type": "execute_result"
    }
   ],
   "source": [
    "obj.carFleet(target,position,speed)"
   ]
  },
  {
   "cell_type": "code",
   "execution_count": null,
   "metadata": {},
   "outputs": [],
   "source": []
  }
 ],
 "metadata": {
  "kernelspec": {
   "display_name": "Python 3",
   "language": "python",
   "name": "python3"
  },
  "language_info": {
   "codemirror_mode": {
    "name": "ipython",
    "version": 3
   },
   "file_extension": ".py",
   "mimetype": "text/x-python",
   "name": "python",
   "nbconvert_exporter": "python",
   "pygments_lexer": "ipython3",
   "version": "3.10.12"
  }
 },
 "nbformat": 4,
 "nbformat_minor": 2
}
