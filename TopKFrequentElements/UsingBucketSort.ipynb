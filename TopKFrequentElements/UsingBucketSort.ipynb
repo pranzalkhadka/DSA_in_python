{
 "cells": [
  {
   "cell_type": "code",
   "execution_count": 46,
   "metadata": {},
   "outputs": [],
   "source": [
    "class Solution:\n",
    "\n",
    "    def topKFrequent(self, arr, k):\n",
    "        freq_dict = {}\n",
    "        for i in arr:\n",
    "            freq_dict[i] = 1 + freq_dict.get(i,0)\n",
    "\n",
    "        freq = [[] for _ in range(len(arr) + 1)]\n",
    "\n",
    "        for key, value in freq_dict.items():\n",
    "            freq[value].append(key)\n",
    "\n",
    "        result = []\n",
    "        \n",
    "        for i in range(len(freq) - 1, 0, -1):\n",
    "            if freq[i]:\n",
    "                result.extend(sorted(freq[i]))\n",
    "                if len(result) >= k:\n",
    "                    return result[:k]\n",
    "                \n",
    "        return result"
   ]
  },
  {
   "cell_type": "code",
   "execution_count": 47,
   "metadata": {},
   "outputs": [],
   "source": [
    "obj = Solution()"
   ]
  },
  {
   "cell_type": "code",
   "execution_count": 48,
   "metadata": {},
   "outputs": [],
   "source": [
    "arr1 = [1,1,2,3,3,3]\n",
    "arr2 = [1,2]\n",
    "arr3 = [1]\n",
    "k = 2"
   ]
  },
  {
   "cell_type": "code",
   "execution_count": 49,
   "metadata": {},
   "outputs": [
    {
     "name": "stdout",
     "output_type": "stream",
     "text": [
      "[3, 1]\n",
      "[1, 2]\n",
      "[1]\n"
     ]
    }
   ],
   "source": [
    "print(obj.topKFrequent(arr1, k))\n",
    "print(obj.topKFrequent(arr2, k))\n",
    "print(obj.topKFrequent(arr3, k))"
   ]
  },
  {
   "cell_type": "code",
   "execution_count": null,
   "metadata": {},
   "outputs": [],
   "source": []
  }
 ],
 "metadata": {
  "kernelspec": {
   "display_name": "Python 3",
   "language": "python",
   "name": "python3"
  },
  "language_info": {
   "codemirror_mode": {
    "name": "ipython",
    "version": 3
   },
   "file_extension": ".py",
   "mimetype": "text/x-python",
   "name": "python",
   "nbconvert_exporter": "python",
   "pygments_lexer": "ipython3",
   "version": "3.10.12"
  }
 },
 "nbformat": 4,
 "nbformat_minor": 2
}
