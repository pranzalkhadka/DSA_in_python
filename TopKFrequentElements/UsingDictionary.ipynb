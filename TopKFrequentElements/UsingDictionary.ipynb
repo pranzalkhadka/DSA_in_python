{
 "cells": [
  {
   "cell_type": "code",
   "execution_count": 64,
   "metadata": {},
   "outputs": [],
   "source": [
    "class Solution:\n",
    "    def hash_map(self,arr):\n",
    "        dict = {}\n",
    "\n",
    "        for i in arr:\n",
    "            count = arr.count(i)\n",
    "            dict[i] = count\n",
    "        return dict\n",
    "    \n",
    "    def topKFrequent(self,arr,k):\n",
    "        dict = self.hash_map(arr)\n",
    "\n",
    "        lst = []\n",
    "\n",
    "        for i in range(k):\n",
    "            max_value = max(dict, key=dict.get)\n",
    "            lst.append(max_value)\n",
    "            dict.pop(max_value)\n",
    "        \n",
    "        return lst"
   ]
  },
  {
   "cell_type": "code",
   "execution_count": 65,
   "metadata": {},
   "outputs": [],
   "source": [
    "obj = Solution()"
   ]
  },
  {
   "cell_type": "code",
   "execution_count": 70,
   "metadata": {},
   "outputs": [],
   "source": [
    "arr1 = [1,1,2,3,3,3]\n",
    "arr2 = [1,2]\n",
    "k = 2"
   ]
  },
  {
   "cell_type": "code",
   "execution_count": 71,
   "metadata": {},
   "outputs": [
    {
     "name": "stdout",
     "output_type": "stream",
     "text": [
      "[3, 1]\n",
      "[1, 2]\n"
     ]
    }
   ],
   "source": [
    "print(obj.topKFrequent(arr1,k))\n",
    "print(obj.topKFrequent(arr2,k))"
   ]
  },
  {
   "cell_type": "code",
   "execution_count": null,
   "metadata": {},
   "outputs": [],
   "source": []
  }
 ],
 "metadata": {
  "kernelspec": {
   "display_name": "Python 3",
   "language": "python",
   "name": "python3"
  },
  "language_info": {
   "codemirror_mode": {
    "name": "ipython",
    "version": 3
   },
   "file_extension": ".py",
   "mimetype": "text/x-python",
   "name": "python",
   "nbconvert_exporter": "python",
   "pygments_lexer": "ipython3",
   "version": "3.10.12"
  }
 },
 "nbformat": 4,
 "nbformat_minor": 2
}
