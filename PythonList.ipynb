{
 "cells": [
  {
   "cell_type": "code",
   "execution_count": 1,
   "metadata": {},
   "outputs": [],
   "source": [
    "import ctypes"
   ]
  },
  {
   "cell_type": "code",
   "execution_count": 59,
   "metadata": {},
   "outputs": [],
   "source": [
    "class MyList:\n",
    "    def __init__(self):\n",
    "        self.size = 1\n",
    "        #size is the capacity of the list\n",
    "        self.n = 0\n",
    "        #n is the amount of size used\n",
    "        self.Arr = self.__create_array(self.size)\n",
    "\n",
    "    def __len__(self):\n",
    "        #returns length of the list\n",
    "        return self.n\n",
    "    \n",
    "    def __str__(self):\n",
    "        #prints the list\n",
    "        result = ''\n",
    "        for i in range(self.n):\n",
    "            result = result + str(self.Arr[i]) + ','\n",
    "\n",
    "        #Slicing the last value to remove the extra comma at last and added brackets \n",
    "        return '[' + result[:-1] + ']'\n",
    "    \n",
    "    def append(self,item):\n",
    "        if self.n == self.size:\n",
    "            #resize the current list\n",
    "            self.__resize(self.size*2)\n",
    "\n",
    "        #append the item\n",
    "        self.Arr[self.n] = item\n",
    "        #increase the value of n after appending the item\n",
    "        self.n = self.n + 1\n",
    "\n",
    "    def __resize(self,new_size):\n",
    "        B = self.__create_array(new_size)\n",
    "        self.size = new_size\n",
    "\n",
    "        #Copy contents of List A to List B\n",
    "        for i in range(self.n):\n",
    "            B[i] = self.Arr[i]\n",
    "\n",
    "        self.Arr = B\n",
    "\n",
    "    def __create_array(self,capacity):\n",
    "        #creates a C type static referential array of size capacity\n",
    "        return (capacity * ctypes.py_object)()"
   ]
  },
  {
   "cell_type": "code",
   "execution_count": 60,
   "metadata": {},
   "outputs": [],
   "source": [
    "L = MyList()"
   ]
  },
  {
   "cell_type": "code",
   "execution_count": 61,
   "metadata": {},
   "outputs": [
    {
     "data": {
      "text/plain": [
       "__main__.MyList"
      ]
     },
     "execution_count": 61,
     "metadata": {},
     "output_type": "execute_result"
    }
   ],
   "source": [
    "type(L)"
   ]
  },
  {
   "cell_type": "code",
   "execution_count": 62,
   "metadata": {},
   "outputs": [
    {
     "data": {
      "text/plain": [
       "0"
      ]
     },
     "execution_count": 62,
     "metadata": {},
     "output_type": "execute_result"
    }
   ],
   "source": [
    "len(L)"
   ]
  },
  {
   "cell_type": "code",
   "execution_count": 63,
   "metadata": {},
   "outputs": [],
   "source": [
    "L.append('hello')\n",
    "L.append(4)"
   ]
  },
  {
   "cell_type": "code",
   "execution_count": 64,
   "metadata": {},
   "outputs": [
    {
     "data": {
      "text/plain": [
       "2"
      ]
     },
     "execution_count": 64,
     "metadata": {},
     "output_type": "execute_result"
    }
   ],
   "source": [
    "len(L)"
   ]
  },
  {
   "cell_type": "code",
   "execution_count": 65,
   "metadata": {},
   "outputs": [
    {
     "name": "stdout",
     "output_type": "stream",
     "text": [
      "[hello,4]\n"
     ]
    }
   ],
   "source": [
    "print(L)"
   ]
  },
  {
   "cell_type": "code",
   "execution_count": null,
   "metadata": {},
   "outputs": [],
   "source": []
  }
 ],
 "metadata": {
  "kernelspec": {
   "display_name": "Python 3",
   "language": "python",
   "name": "python3"
  },
  "language_info": {
   "codemirror_mode": {
    "name": "ipython",
    "version": 3
   },
   "file_extension": ".py",
   "mimetype": "text/x-python",
   "name": "python",
   "nbconvert_exporter": "python",
   "pygments_lexer": "ipython3",
   "version": "3.10.12"
  },
  "orig_nbformat": 4
 },
 "nbformat": 4,
 "nbformat_minor": 2
}
