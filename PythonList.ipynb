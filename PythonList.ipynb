{
 "cells": [
  {
   "cell_type": "code",
   "execution_count": 1,
   "metadata": {},
   "outputs": [],
   "source": [
    "import ctypes"
   ]
  },
  {
   "cell_type": "code",
   "execution_count": 204,
   "metadata": {},
   "outputs": [],
   "source": [
    "class MyList:\n",
    "    def __init__(self):\n",
    "        self.size = 1\n",
    "        #size is the capacity of the list\n",
    "        self.n = 0\n",
    "        #n is the amount of size used\n",
    "        self.Arr = self.__create_array(self.size)\n",
    "\n",
    "    def __len__(self):\n",
    "        #returns length of the list\n",
    "        return self.n\n",
    "    \n",
    "    def __str__(self):\n",
    "        #prints the list\n",
    "        result = ''\n",
    "        for i in range(self.n):\n",
    "            result = result + str(self.Arr[i]) + ','\n",
    "\n",
    "        #Slicing the last value to remove the extra comma at last and added brackets \n",
    "        return '[' + result[:-1] + ']'\n",
    "    \n",
    "    def __getitem__(self,index):\n",
    "        if 0 <= index < self.n:\n",
    "            return self.Arr[index]\n",
    "        else:\n",
    "            return \"Index out of range\"\n",
    "        \n",
    "    def __delitem__(self,pos):\n",
    "        if  0 <= pos <= self.n:\n",
    "            for i in range(pos,self.n-1):\n",
    "                self.Arr[i] = self.Arr[i+1]\n",
    "\n",
    "            self.n = self.n-1\n",
    "    \n",
    "    def append(self,item):\n",
    "        if self.n == self.size:\n",
    "            #resize the current list\n",
    "            self.__resize(self.size*2)\n",
    "\n",
    "        #append the item\n",
    "        self.Arr[self.n] = item\n",
    "        #increase the value of n after appending the item\n",
    "        self.n = self.n + 1\n",
    "\n",
    "    def pop(self):\n",
    "        if self.n == 0:\n",
    "            return \"List is already empty\"\n",
    "        #print the element that is going to be popped\n",
    "        print(self.Arr[self.n-1])\n",
    "        self.n = self.n-1\n",
    "\n",
    "    def clear(self):\n",
    "        #Just bring the array to initial empty state to clear the array\n",
    "        self.n = 0\n",
    "        self.size = 1\n",
    "\n",
    "    def find(self,item):\n",
    "        for i in range(self.n):\n",
    "            if self.Arr[i] == item:\n",
    "                return i\n",
    "        return \"Item not in list\"\n",
    "    \n",
    "    def insert(self,pos,item):\n",
    "        if self.n == self.size:\n",
    "            self.__resize(self.size**2)\n",
    "\n",
    "        for i in range(self.n,pos,-1):\n",
    "            self.Arr[i] = self.Arr[i-1]\n",
    "\n",
    "        self.Arr[pos] = item\n",
    "        self.n = self.n + 1\n",
    "\n",
    "    def remove(self,item):\n",
    "        pos = self.find(item)\n",
    "\n",
    "        #Our find function works in a way that if the item is found pos will contain an integer else it will contain a string saying item not found\n",
    "        if type(pos) == int:\n",
    "            self.__delitem__(pos)\n",
    "        else:\n",
    "            return pos\n",
    "\n",
    "    def __resize(self,new_size):\n",
    "        B = self.__create_array(new_size)\n",
    "        self.size = new_size\n",
    "\n",
    "        #Copy contents of List A to List B\n",
    "        for i in range(self.n):\n",
    "            B[i] = self.Arr[i]\n",
    "\n",
    "        self.Arr = B\n",
    "\n",
    "    def __create_array(self,capacity):\n",
    "        #creates a C type static referential array of size capacity\n",
    "        return (capacity * ctypes.py_object)()"
   ]
  },
  {
   "cell_type": "code",
   "execution_count": 205,
   "metadata": {},
   "outputs": [],
   "source": [
    "L = MyList()"
   ]
  },
  {
   "cell_type": "code",
   "execution_count": 206,
   "metadata": {},
   "outputs": [
    {
     "data": {
      "text/plain": [
       "__main__.MyList"
      ]
     },
     "execution_count": 206,
     "metadata": {},
     "output_type": "execute_result"
    }
   ],
   "source": [
    "type(L)"
   ]
  },
  {
   "cell_type": "code",
   "execution_count": 207,
   "metadata": {},
   "outputs": [
    {
     "data": {
      "text/plain": [
       "0"
      ]
     },
     "execution_count": 207,
     "metadata": {},
     "output_type": "execute_result"
    }
   ],
   "source": [
    "len(L)"
   ]
  },
  {
   "cell_type": "code",
   "execution_count": 208,
   "metadata": {},
   "outputs": [],
   "source": [
    "L.append('hello')\n",
    "L.append(4)\n",
    "L.append(6.2)\n",
    "L.append('world')"
   ]
  },
  {
   "cell_type": "code",
   "execution_count": 209,
   "metadata": {},
   "outputs": [
    {
     "data": {
      "text/plain": [
       "4"
      ]
     },
     "execution_count": 209,
     "metadata": {},
     "output_type": "execute_result"
    }
   ],
   "source": [
    "len(L)"
   ]
  },
  {
   "cell_type": "code",
   "execution_count": 210,
   "metadata": {},
   "outputs": [
    {
     "name": "stdout",
     "output_type": "stream",
     "text": [
      "[hello,4,6.2,world]\n"
     ]
    }
   ],
   "source": [
    "print(L)"
   ]
  },
  {
   "cell_type": "code",
   "execution_count": 211,
   "metadata": {},
   "outputs": [
    {
     "data": {
      "text/plain": [
       "6.2"
      ]
     },
     "execution_count": 211,
     "metadata": {},
     "output_type": "execute_result"
    }
   ],
   "source": [
    "L[2]"
   ]
  },
  {
   "cell_type": "code",
   "execution_count": 212,
   "metadata": {},
   "outputs": [
    {
     "data": {
      "text/plain": [
       "6.2"
      ]
     },
     "execution_count": 212,
     "metadata": {},
     "output_type": "execute_result"
    }
   ],
   "source": [
    "L[2]"
   ]
  },
  {
   "cell_type": "code",
   "execution_count": 213,
   "metadata": {},
   "outputs": [
    {
     "name": "stdout",
     "output_type": "stream",
     "text": [
      "world\n"
     ]
    }
   ],
   "source": [
    "L.pop()"
   ]
  },
  {
   "cell_type": "code",
   "execution_count": 214,
   "metadata": {},
   "outputs": [
    {
     "name": "stdout",
     "output_type": "stream",
     "text": [
      "[hello,4,6.2]\n"
     ]
    }
   ],
   "source": [
    "print(L)"
   ]
  },
  {
   "cell_type": "code",
   "execution_count": 215,
   "metadata": {},
   "outputs": [],
   "source": [
    "L.insert(1,89)"
   ]
  },
  {
   "cell_type": "code",
   "execution_count": 216,
   "metadata": {},
   "outputs": [
    {
     "name": "stdout",
     "output_type": "stream",
     "text": [
      "[hello,89,4,6.2]\n"
     ]
    }
   ],
   "source": [
    "print(L)"
   ]
  },
  {
   "cell_type": "code",
   "execution_count": 217,
   "metadata": {},
   "outputs": [],
   "source": [
    "del L[3]"
   ]
  },
  {
   "cell_type": "code",
   "execution_count": 218,
   "metadata": {},
   "outputs": [
    {
     "name": "stdout",
     "output_type": "stream",
     "text": [
      "[hello,89,4]\n"
     ]
    }
   ],
   "source": [
    "print(L)"
   ]
  },
  {
   "cell_type": "code",
   "execution_count": 220,
   "metadata": {},
   "outputs": [],
   "source": [
    "L.remove('hello')"
   ]
  },
  {
   "cell_type": "code",
   "execution_count": 221,
   "metadata": {},
   "outputs": [
    {
     "name": "stdout",
     "output_type": "stream",
     "text": [
      "[89,4]\n"
     ]
    }
   ],
   "source": [
    "print(L)"
   ]
  },
  {
   "cell_type": "code",
   "execution_count": null,
   "metadata": {},
   "outputs": [],
   "source": []
  }
 ],
 "metadata": {
  "kernelspec": {
   "display_name": "Python 3",
   "language": "python",
   "name": "python3"
  },
  "language_info": {
   "codemirror_mode": {
    "name": "ipython",
    "version": 3
   },
   "file_extension": ".py",
   "mimetype": "text/x-python",
   "name": "python",
   "nbconvert_exporter": "python",
   "pygments_lexer": "ipython3",
   "version": "3.10.12"
  },
  "orig_nbformat": 4
 },
 "nbformat": 4,
 "nbformat_minor": 2
}
