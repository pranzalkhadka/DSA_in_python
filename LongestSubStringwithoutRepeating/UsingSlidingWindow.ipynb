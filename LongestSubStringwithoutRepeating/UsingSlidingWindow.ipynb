{
 "cells": [
  {
   "cell_type": "code",
   "execution_count": 13,
   "metadata": {},
   "outputs": [],
   "source": [
    "class Solution(object):\n",
    "    def lengthOfLongestSubstring(self, s):\n",
    "        charSet = set()\n",
    "        l = 0\n",
    "        result  = 0\n",
    "\n",
    "        for r in range(len(s)):\n",
    "            while s[r] in charSet:\n",
    "                #remove until the rightmost character is in the substring\n",
    "                charSet.remove(s[l])\n",
    "                l = l + 1\n",
    "            charSet.add(s[r])\n",
    "            result = max(result, r-l+1)\n",
    "        return result\n",
    "            "
   ]
  },
  {
   "cell_type": "code",
   "execution_count": 14,
   "metadata": {},
   "outputs": [
    {
     "data": {
      "text/plain": [
       "3"
      ]
     },
     "execution_count": 14,
     "metadata": {},
     "output_type": "execute_result"
    }
   ],
   "source": [
    "obj = Solution()\n",
    "s = \"abcabcbb\"\n",
    "s2 = \"bbbbb\"\n",
    "s3 = \"pwwkew\"\n",
    "obj.lengthOfLongestSubstring(s3)"
   ]
  },
  {
   "cell_type": "code",
   "execution_count": null,
   "metadata": {},
   "outputs": [],
   "source": []
  }
 ],
 "metadata": {
  "kernelspec": {
   "display_name": "Python 3",
   "language": "python",
   "name": "python3"
  },
  "language_info": {
   "codemirror_mode": {
    "name": "ipython",
    "version": 3
   },
   "file_extension": ".py",
   "mimetype": "text/x-python",
   "name": "python",
   "nbconvert_exporter": "python",
   "pygments_lexer": "ipython3",
   "version": "3.10.12"
  }
 },
 "nbformat": 4,
 "nbformat_minor": 2
}
