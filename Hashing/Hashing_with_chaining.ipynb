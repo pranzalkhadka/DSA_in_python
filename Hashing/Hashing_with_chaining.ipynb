{
 "cells": [
  {
   "cell_type": "markdown",
   "metadata": {},
   "source": [
    "Hashing with chaining is basically an array of linkedlist. S, each cell of the array is not just a cell that stores a value but each cell is a linkedlist."
   ]
  },
  {
   "cell_type": "code",
   "execution_count": 7,
   "metadata": {},
   "outputs": [],
   "source": [
    "class Node:\n",
    "    \n",
    "    def __init__(self,key,value):\n",
    "\n",
    "        self.key = key\n",
    "        self.value = value\n",
    "        self.next = None"
   ]
  },
  {
   "cell_type": "code",
   "execution_count": 32,
   "metadata": {},
   "outputs": [],
   "source": [
    "class LinkedList:\n",
    "    \n",
    "    def __init__(self):\n",
    "\n",
    "        self.head = None\n",
    "\n",
    "\n",
    "    def add(self, key, value):\n",
    "\n",
    "        new_node = Node(key, value)\n",
    "\n",
    "        if self.head == None:\n",
    "            self.head = new_node\n",
    "        else:\n",
    "            temp = self.head\n",
    "\n",
    "            while temp.next != None:\n",
    "                temp = temp.next\n",
    "\n",
    "            temp.next = new_node\n",
    "\n",
    "\n",
    "    def delete_head(self):\n",
    "\n",
    "        if self.head == None:\n",
    "            return \"Empty\"\n",
    "        else:\n",
    "            self.head = self.head.next\n",
    "\n",
    "\n",
    "    def remove(self, key):\n",
    "\n",
    "        if self.head.key == key:\n",
    "            self.delete_head()\n",
    "            return \n",
    "\n",
    "        if self.head == None:\n",
    "            return \"Empty\"\n",
    "        else:\n",
    "            temp = self.head\n",
    "\n",
    "            while temp.next != None:\n",
    "                if temp.next.key == key:\n",
    "                    break\n",
    "                temp = temp.next\n",
    "\n",
    "            if temp.next == None:\n",
    "                return \"Not Found\"\n",
    "            else:\n",
    "                temp.next = temp.next.next\n",
    "\n",
    "    \n",
    "    def traverse(self):\n",
    "\n",
    "        temp = self.head\n",
    "\n",
    "        while temp != None:\n",
    "\n",
    "            print(temp.key,\"-->\",temp.value,\" \", end=\" \")\n",
    "            temp = temp.next\n",
    "\n",
    "\n",
    "    def size(self):\n",
    "\n",
    "        temp = self.head\n",
    "        counter = 0\n",
    "\n",
    "        while temp != None:\n",
    "\n",
    "            counter += 1\n",
    "            temp = temp.next\n",
    "\n",
    "        return counter\n",
    "\n",
    "    def search(self,key):\n",
    "\n",
    "        temp = self.head\n",
    "        pos = 0\n",
    "\n",
    "        while temp != None:\n",
    "            if temp.key == key:\n",
    "                return pos\n",
    "            temp = temp.next\n",
    "            pos += 1\n",
    "\n",
    "        return -1\n",
    "    \n",
    "    def get_node_at_index(self,index):\n",
    "\n",
    "            temp = self.head\n",
    "            counter = 0\n",
    "\n",
    "            while temp is not None:\n",
    "                if counter == index:\n",
    "                    return temp\n",
    "                \n",
    "                temp = temp.next\n",
    "                counter+=1"
   ]
  },
  {
   "cell_type": "code",
   "execution_count": 77,
   "metadata": {},
   "outputs": [],
   "source": [
    "class Dictionary:\n",
    "\n",
    "    def __init__(self,capacity):\n",
    "        \n",
    "        #capacity is the capacity of the dictionary\n",
    "        self.capacity = capacity\n",
    "        #size is the number of key-value pairs in the dictionary\n",
    "        self.size = 0\n",
    "        #create an array of linkedlist\n",
    "        self.buckets = self.create_array(self.capacity)\n",
    "\n",
    "    def create_array(self,capacity):\n",
    "\n",
    "        L = []\n",
    "        for i in range(capacity):\n",
    "            #Insert Objects of linkedlist class into the empty list(array) of required capacity such that the array now becomes an array of linkedlist\n",
    "            L.append(LinkedList())\n",
    "        return L\n",
    "    \n",
    "    def put(self,key,value):\n",
    "\n",
    "        bucket_index = self.hash_function(key)\n",
    "        node_index = self.get_node_index(bucket_index,key)\n",
    "\n",
    "        if node_index == -1:\n",
    "            #Key was not found so a new key value pair has to be inserted\n",
    "            self.buckets[bucket_index].add(key,value)\n",
    "            self.size += 1\n",
    "\n",
    "            #If any of the linkedlist becomes very large, the point of hashing will be no more since we cannot access items in constant time in large linkedlist\n",
    "            #Hence we will define a load factor which if crossed, a new array of linkedlist will be created which will be double the size of previous array\n",
    "            load_factor = self.size / self.capacity\n",
    "            print(load_factor)\n",
    "            if (load_factor >= 2):\n",
    "                self.rehash()\n",
    "        else:\n",
    "            #Key was found so update the key with the new value\n",
    "            #If this is the case, we need to find the node where that key is\n",
    "            node = self.buckets[bucket_index].get_node_at_index(node_index)\n",
    "            node.value = value\n",
    "\n",
    "    def __setitem__(self,key,value):\n",
    "\n",
    "        #Allows indexing for setting item\n",
    "        self.put(key,value)\n",
    "\n",
    "    def get(self,key):\n",
    "\n",
    "        bucket_index = self.hash_function(key)\n",
    "        result = self.buckets[bucket_index].search(key)\n",
    "\n",
    "        if result == -1:\n",
    "            return \"Key not found\"\n",
    "        else:\n",
    "            node = self.buckets[bucket_index].get_node_at_index(result)\n",
    "            return node.value\n",
    "        \n",
    "    def __getitem__(self,key):\n",
    "\n",
    "        #Allows indexing for getting item\"\n",
    "        return self.get(key)\n",
    "    \n",
    "    def __delitem__(self,key):\n",
    "\n",
    "        #delete a key \n",
    "        bucket_index = self.hash_function(key)\n",
    "        self.buckets[bucket_index].remove(key)\n",
    "        self.size = self.size - 1\n",
    "\n",
    "    def __str__(self):\n",
    "\n",
    "        for i in self.buckets:\n",
    "            i.traverse()\n",
    "\n",
    "        return \"\"\n",
    "    \n",
    "    def __len__(self):\n",
    "        #return size of hash\n",
    "        return self.size\n",
    "    \n",
    "\n",
    "    def rehash(self):\n",
    "        #Once load factor is reached, increase the array by double\n",
    "        self.capacity = self.capacity * 2\n",
    "        #Store the values of bucket in a new array\n",
    "        old_buckets = self.buckets\n",
    "        #Empty the bucket and size as 0\n",
    "        self.size = 0\n",
    "        #create new bucket\n",
    "        self.buckets = self.create_array(self.capacity)\n",
    "\n",
    "        for i in old_buckets:\n",
    "            #for each linkedlist in the array\n",
    "            for j in range(i.size()):\n",
    "                #for each node in the linkedlist\n",
    "                #get the node\n",
    "                node = i.get_node_at_index(j)\n",
    "                #retrive key of that node\n",
    "                key_item = node.key\n",
    "                #retrieve value of that node\n",
    "                value_item = node.value\n",
    "                #insert the key and value in the new bucket with new hash value since the array has doubled now\n",
    "                self.put(key_item,value_item)\n",
    "            \n",
    "            \n",
    "    def get_node_index(self,bucket_index,key):\n",
    "\n",
    "        #return index of the node\n",
    "        node_index = self.buckets[bucket_index].search(key)\n",
    "        return node_index\n",
    "\n",
    "    def hash_function(self,key):\n",
    "        return abs(hash(key)) % self.capacity"
   ]
  },
  {
   "cell_type": "code",
   "execution_count": 78,
   "metadata": {},
   "outputs": [],
   "source": [
    "d = Dictionary(5)"
   ]
  },
  {
   "cell_type": "code",
   "execution_count": 79,
   "metadata": {},
   "outputs": [
    {
     "name": "stdout",
     "output_type": "stream",
     "text": [
      "0.2\n",
      "0.4\n",
      "0.6\n"
     ]
    }
   ],
   "source": [
    "d.put(3,\"Pranjal\")\n",
    "d.put(2,\"Ram\")\n",
    "d.put(1,\"Shyam\")"
   ]
  },
  {
   "cell_type": "code",
   "execution_count": 80,
   "metadata": {},
   "outputs": [
    {
     "name": "stdout",
     "output_type": "stream",
     "text": [
      "1 --> Shyam   2 --> Ram   3 --> Pranjal   \n"
     ]
    }
   ],
   "source": [
    "print(d)"
   ]
  },
  {
   "cell_type": "code",
   "execution_count": 81,
   "metadata": {},
   "outputs": [
    {
     "data": {
      "text/plain": [
       "'Ram'"
      ]
     },
     "execution_count": 81,
     "metadata": {},
     "output_type": "execute_result"
    }
   ],
   "source": [
    "d[2]"
   ]
  },
  {
   "cell_type": "code",
   "execution_count": 82,
   "metadata": {},
   "outputs": [],
   "source": [
    "del d[2]"
   ]
  },
  {
   "cell_type": "code",
   "execution_count": 83,
   "metadata": {},
   "outputs": [
    {
     "data": {
      "text/plain": [
       "'Key not found'"
      ]
     },
     "execution_count": 83,
     "metadata": {},
     "output_type": "execute_result"
    }
   ],
   "source": [
    "d[2]"
   ]
  },
  {
   "cell_type": "code",
   "execution_count": 84,
   "metadata": {},
   "outputs": [
    {
     "name": "stdout",
     "output_type": "stream",
     "text": [
      "1 --> Shyam   3 --> Pranjal   \n"
     ]
    }
   ],
   "source": [
    "print(d)"
   ]
  },
  {
   "cell_type": "code",
   "execution_count": 85,
   "metadata": {},
   "outputs": [
    {
     "data": {
      "text/plain": [
       "2"
      ]
     },
     "execution_count": 85,
     "metadata": {},
     "output_type": "execute_result"
    }
   ],
   "source": [
    "len(d)"
   ]
  },
  {
   "cell_type": "code",
   "execution_count": 15,
   "metadata": {},
   "outputs": [
    {
     "data": {
      "text/plain": [
       "[<__main__.LinkedList at 0x7f7c3426aad0>,\n",
       " <__main__.LinkedList at 0x7f7c343a2740>,\n",
       " <__main__.LinkedList at 0x7f7c343a25f0>,\n",
       " <__main__.LinkedList at 0x7f7c343a2a70>]"
      ]
     },
     "execution_count": 15,
     "metadata": {},
     "output_type": "execute_result"
    }
   ],
   "source": [
    "d.buckets"
   ]
  },
  {
   "cell_type": "code",
   "execution_count": 48,
   "metadata": {},
   "outputs": [
    {
     "name": "stdout",
     "output_type": "stream",
     "text": [
      "2 --> Pranjal   "
     ]
    }
   ],
   "source": [
    "d.buckets[2].traverse()"
   ]
  },
  {
   "cell_type": "code",
   "execution_count": 49,
   "metadata": {},
   "outputs": [],
   "source": [
    "d.put(3,\"Ram\")"
   ]
  },
  {
   "cell_type": "code",
   "execution_count": 50,
   "metadata": {},
   "outputs": [],
   "source": [
    "d.buckets[0].traverse()"
   ]
  },
  {
   "cell_type": "code",
   "execution_count": 51,
   "metadata": {},
   "outputs": [],
   "source": [
    "d.put(12,\"Shyam\")\n",
    "d.put(22,\"Jack\")\n",
    "d.put(42,\"smith\")"
   ]
  },
  {
   "cell_type": "code",
   "execution_count": 58,
   "metadata": {},
   "outputs": [
    {
     "name": "stdout",
     "output_type": "stream",
     "text": [
      "3 --> Ram   "
     ]
    }
   ],
   "source": [
    "d.buckets[3].traverse()"
   ]
  },
  {
   "cell_type": "code",
   "execution_count": 59,
   "metadata": {},
   "outputs": [
    {
     "name": "stdout",
     "output_type": "stream",
     "text": [
      "2 --> Pranjal   12 --> Shyam   22 --> Jack   42 --> smith   "
     ]
    }
   ],
   "source": [
    "d.buckets[2].traverse()"
   ]
  },
  {
   "cell_type": "code",
   "execution_count": null,
   "metadata": {},
   "outputs": [],
   "source": []
  }
 ],
 "metadata": {
  "kernelspec": {
   "display_name": "Python 3",
   "language": "python",
   "name": "python3"
  },
  "language_info": {
   "codemirror_mode": {
    "name": "ipython",
    "version": 3
   },
   "file_extension": ".py",
   "mimetype": "text/x-python",
   "name": "python",
   "nbconvert_exporter": "python",
   "pygments_lexer": "ipython3",
   "version": "3.10.12"
  },
  "orig_nbformat": 4
 },
 "nbformat": 4,
 "nbformat_minor": 2
}
