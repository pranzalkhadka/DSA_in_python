{
 "cells": [
  {
   "cell_type": "code",
   "execution_count": 2,
   "metadata": {},
   "outputs": [],
   "source": [
    "#Our array was sorted initially but it was rotated a certain umber of times\n",
    "#For example. if arr = [1,2,3,4,5] was rotated by 3 times then [3,4,5,1,2]\n",
    "#Now we need to find the smallest element in the rotated array\n",
    "#Using binary search, see the middle element which is 5\n",
    "#In the rotated array, there is always gonna be two sorted sub arrays like [3,4,5] and [1,2] in our case\n",
    "#We need to find in which sub array our 5 belongs\n",
    "#If it belongs to right subarray, the smallest value than it will always be in left sub array and vice versa"
   ]
  },
  {
   "cell_type": "code",
   "execution_count": 3,
   "metadata": {},
   "outputs": [],
   "source": [
    "class Solution(object):\n",
    "    def findMin(self, nums):\n",
    "        result = nums[0]\n",
    "        l , r = 0 , len(nums)-1\n",
    "        while l<=r:\n",
    "            #If the sub array is already sorted, just take its first value\n",
    "            if nums[l] < nums[r]:\n",
    "                result = min(result,nums[l])\n",
    "                break\n",
    "            m = (l+r) // 2\n",
    "            result = min(result,nums[m])\n",
    "            #If nums[m] >= nums[l], it is part of left sub array\n",
    "            if nums[m] >= nums[l]:\n",
    "                l = m + 1\n",
    "            else:\n",
    "                r = m - 1\n",
    "        return result"
   ]
  },
  {
   "cell_type": "code",
   "execution_count": 4,
   "metadata": {},
   "outputs": [],
   "source": [
    "obj = Solution()\n",
    "nums = [3,4,5,1,2]"
   ]
  },
  {
   "cell_type": "code",
   "execution_count": 5,
   "metadata": {},
   "outputs": [
    {
     "data": {
      "text/plain": [
       "1"
      ]
     },
     "execution_count": 5,
     "metadata": {},
     "output_type": "execute_result"
    }
   ],
   "source": [
    "obj.findMin(nums)"
   ]
  },
  {
   "cell_type": "code",
   "execution_count": null,
   "metadata": {},
   "outputs": [],
   "source": []
  }
 ],
 "metadata": {
  "kernelspec": {
   "display_name": "Python 3",
   "language": "python",
   "name": "python3"
  },
  "language_info": {
   "codemirror_mode": {
    "name": "ipython",
    "version": 3
   },
   "file_extension": ".py",
   "mimetype": "text/x-python",
   "name": "python",
   "nbconvert_exporter": "python",
   "pygments_lexer": "ipython3",
   "version": "3.10.12"
  }
 },
 "nbformat": 4,
 "nbformat_minor": 2
}
