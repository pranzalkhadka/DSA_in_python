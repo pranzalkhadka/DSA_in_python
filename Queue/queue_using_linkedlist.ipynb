{
 "cells": [
  {
   "cell_type": "code",
   "execution_count": 1,
   "metadata": {},
   "outputs": [],
   "source": [
    "class Node:\n",
    "    def __init__(self,value):\n",
    "        self.data = value\n",
    "        self.next = None\n",
    "    "
   ]
  },
  {
   "cell_type": "code",
   "execution_count": 16,
   "metadata": {},
   "outputs": [],
   "source": [
    "class Queue:\n",
    "    def __init__(self):\n",
    "        self.front = None\n",
    "        self.rear = None\n",
    "\n",
    "    def isempty(self):\n",
    "\n",
    "        if self.front == None:\n",
    "            return \"Queue is Empty\"\n",
    "        \n",
    "    def size(self):\n",
    "        current = self.front\n",
    "        counter = 0\n",
    "\n",
    "        while current != None:\n",
    "            counter = counter + 1\n",
    "            current = current.next\n",
    "\n",
    "        return counter\n",
    "    \n",
    "    def front_peek(self):\n",
    "        #returns the first element of queue\n",
    "\n",
    "        if self.front == None:\n",
    "            return \"Queue is Empty\"\n",
    "        else:\n",
    "            return self.front.data\n",
    "        \n",
    "    def rear_peek(self):\n",
    "        #returns the last element of queue\n",
    "        if self.front == None:\n",
    "            return \"Queue is Empty\"\n",
    "        else:\n",
    "            return self.rear.data\n",
    "\n",
    "\n",
    "    def enqueue(self,value):\n",
    "        #inserts element in the back of queue\n",
    "\n",
    "        new_node = Node(value)\n",
    "\n",
    "        if self.rear == None:\n",
    "            self.front = new_node\n",
    "            self.rear = self.front\n",
    "        else:\n",
    "            self.rear.next = new_node\n",
    "            self.rear = new_node\n",
    "\n",
    "    def dequeue(self):\n",
    "        #removes element from back of queue\n",
    "\n",
    "        if self.front == None:\n",
    "            return \"Queue is Empty\"\n",
    "        else:\n",
    "            self.front = self.front.next\n",
    "\n",
    "    def traverse(self):\n",
    "        current = self.front\n",
    "\n",
    "        while current != None:\n",
    "            print(current.data,end = ' ')\n",
    "            current = current.next"
   ]
  },
  {
   "cell_type": "code",
   "execution_count": 17,
   "metadata": {},
   "outputs": [],
   "source": [
    "q= Queue()"
   ]
  },
  {
   "cell_type": "code",
   "execution_count": 18,
   "metadata": {},
   "outputs": [],
   "source": [
    "q.enqueue(4)\n",
    "q.enqueue(7)\n",
    "q.enqueue(9)\n",
    "q.enqueue(1)"
   ]
  },
  {
   "cell_type": "code",
   "execution_count": 19,
   "metadata": {},
   "outputs": [
    {
     "name": "stdout",
     "output_type": "stream",
     "text": [
      "4 7 9 1 "
     ]
    }
   ],
   "source": [
    "q.traverse()"
   ]
  },
  {
   "cell_type": "code",
   "execution_count": 20,
   "metadata": {},
   "outputs": [],
   "source": [
    "q.dequeue()"
   ]
  },
  {
   "cell_type": "code",
   "execution_count": 21,
   "metadata": {},
   "outputs": [
    {
     "name": "stdout",
     "output_type": "stream",
     "text": [
      "7 9 1 "
     ]
    }
   ],
   "source": [
    "q.traverse()"
   ]
  },
  {
   "cell_type": "code",
   "execution_count": 22,
   "metadata": {},
   "outputs": [
    {
     "data": {
      "text/plain": [
       "3"
      ]
     },
     "execution_count": 22,
     "metadata": {},
     "output_type": "execute_result"
    }
   ],
   "source": [
    "q.size()"
   ]
  },
  {
   "cell_type": "code",
   "execution_count": 23,
   "metadata": {},
   "outputs": [
    {
     "data": {
      "text/plain": [
       "7"
      ]
     },
     "execution_count": 23,
     "metadata": {},
     "output_type": "execute_result"
    }
   ],
   "source": [
    "q.front_peek()"
   ]
  },
  {
   "cell_type": "code",
   "execution_count": 24,
   "metadata": {},
   "outputs": [
    {
     "data": {
      "text/plain": [
       "1"
      ]
     },
     "execution_count": 24,
     "metadata": {},
     "output_type": "execute_result"
    }
   ],
   "source": [
    "q.rear_peek()"
   ]
  },
  {
   "cell_type": "code",
   "execution_count": null,
   "metadata": {},
   "outputs": [],
   "source": []
  }
 ],
 "metadata": {
  "kernelspec": {
   "display_name": "Python 3",
   "language": "python",
   "name": "python3"
  },
  "language_info": {
   "codemirror_mode": {
    "name": "ipython",
    "version": 3
   },
   "file_extension": ".py",
   "mimetype": "text/x-python",
   "name": "python",
   "nbconvert_exporter": "python",
   "pygments_lexer": "ipython3",
   "version": "3.10.12"
  },
  "orig_nbformat": 4
 },
 "nbformat": 4,
 "nbformat_minor": 2
}
