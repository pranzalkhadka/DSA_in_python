{
 "cells": [
  {
   "cell_type": "code",
   "execution_count": 142,
   "metadata": {},
   "outputs": [],
   "source": [
    "class Solution:\n",
    "\n",
    "    def sort(self,arr):\n",
    "        sorted_list =[]\n",
    "\n",
    "        for i in range(len(arr)):\n",
    "            lst = list(arr[i])\n",
    "            for j in range(len(lst)):\n",
    "                for k in range(j+1, len(lst)):\n",
    "                    if lst[j] > lst[k]:\n",
    "                        lst[j], lst[k] = lst[k], lst[j]\n",
    "            sorted = ''\n",
    "            for i in range(len(lst)):\n",
    "                sorted = sorted + lst[i]\n",
    "\n",
    "            sorted_list.append(sorted)\n",
    "            \n",
    "        return sorted_list\n",
    "    \n",
    "    def groupAnagrams(self,arr):\n",
    "        list1 = []\n",
    "        list2 = []\n",
    "\n",
    "        sorted_array = self.sort(arr)\n",
    "\n",
    "        for i in range(len(sorted_array)):\n",
    "            if sorted_array[i] not in list1:\n",
    "                anagram_list2 = []\n",
    "                anagram_list2.append(arr[i])\n",
    "                list1.append(sorted_array[i])\n",
    "            \n",
    "                for j in range(i+1,len(sorted_array)):\n",
    "                    if sorted_array[i] == sorted_array[j]:\n",
    "                        anagram_list2.append(arr[j])\n",
    "\n",
    "                list2.append(anagram_list2)\n",
    "\n",
    "        return list2\n"
   ]
  },
  {
   "cell_type": "code",
   "execution_count": 143,
   "metadata": {},
   "outputs": [],
   "source": [
    "obj = Solution()"
   ]
  },
  {
   "cell_type": "code",
   "execution_count": 144,
   "metadata": {},
   "outputs": [],
   "source": [
    "strs = [\"eat\",\"tea\",\"tan\",\"ate\",\"nat\",\"bat\"]"
   ]
  },
  {
   "cell_type": "code",
   "execution_count": 145,
   "metadata": {},
   "outputs": [
    {
     "data": {
      "text/plain": [
       "['aet', 'aet', 'ant', 'aet', 'ant', 'abt']"
      ]
     },
     "execution_count": 145,
     "metadata": {},
     "output_type": "execute_result"
    }
   ],
   "source": [
    "obj.sort(strs)"
   ]
  },
  {
   "cell_type": "code",
   "execution_count": 146,
   "metadata": {},
   "outputs": [
    {
     "data": {
      "text/plain": [
       "[['eat', 'tea', 'ate'], ['tan', 'nat'], ['bat']]"
      ]
     },
     "execution_count": 146,
     "metadata": {},
     "output_type": "execute_result"
    }
   ],
   "source": [
    "obj.groupAnagrams(strs)"
   ]
  }
 ],
 "metadata": {
  "kernelspec": {
   "display_name": "Python 3",
   "language": "python",
   "name": "python3"
  },
  "language_info": {
   "codemirror_mode": {
    "name": "ipython",
    "version": 3
   },
   "file_extension": ".py",
   "mimetype": "text/x-python",
   "name": "python",
   "nbconvert_exporter": "python",
   "pygments_lexer": "ipython3",
   "version": "3.10.12"
  }
 },
 "nbformat": 4,
 "nbformat_minor": 2
}
