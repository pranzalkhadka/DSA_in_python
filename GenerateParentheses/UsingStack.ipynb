{
 "cells": [
  {
   "cell_type": "code",
   "execution_count": 3,
   "metadata": {},
   "outputs": [],
   "source": [
    "#Conditions are\n",
    "#Max 3 open parantheses and max 3 closed parentheses\n",
    "#We can only add a open parentheses only when open < n\n",
    "#We can only add a closed parentheses only when closed < open "
   ]
  },
  {
   "cell_type": "code",
   "execution_count": 1,
   "metadata": {},
   "outputs": [],
   "source": [
    "class Solution:\n",
    "    def generateParenthesis(self,n):\n",
    "        stack = []\n",
    "        result =[]\n",
    "\n",
    "        def backtrack(openCount,closedCount):\n",
    "            if openCount == closedCount == n:\n",
    "                result.append(\"\".join(stack))\n",
    "                return result\n",
    "            \n",
    "            if openCount < n:\n",
    "                stack.append(\"(\")\n",
    "                backtrack(openCount+1,closedCount)\n",
    "                stack.pop()\n",
    "\n",
    "            if closedCount < openCount:\n",
    "                stack.append(\")\")\n",
    "                backtrack(openCount,closedCount+1)\n",
    "                stack.pop()\n",
    "\n",
    "        backtrack(0,0)\n",
    "        return result"
   ]
  },
  {
   "cell_type": "code",
   "execution_count": 2,
   "metadata": {},
   "outputs": [],
   "source": [
    "obj = Solution()"
   ]
  },
  {
   "cell_type": "code",
   "execution_count": 3,
   "metadata": {},
   "outputs": [
    {
     "data": {
      "text/plain": [
       "['((()))', '(()())', '(())()', '()(())', '()()()']"
      ]
     },
     "execution_count": 3,
     "metadata": {},
     "output_type": "execute_result"
    }
   ],
   "source": [
    "n = 3\n",
    "obj.generateParenthesis(n)"
   ]
  },
  {
   "cell_type": "code",
   "execution_count": null,
   "metadata": {},
   "outputs": [],
   "source": []
  }
 ],
 "metadata": {
  "kernelspec": {
   "display_name": "Python 3",
   "language": "python",
   "name": "python3"
  },
  "language_info": {
   "codemirror_mode": {
    "name": "ipython",
    "version": 3
   },
   "file_extension": ".py",
   "mimetype": "text/x-python",
   "name": "python",
   "nbconvert_exporter": "python",
   "pygments_lexer": "ipython3",
   "version": "3.10.12"
  }
 },
 "nbformat": 4,
 "nbformat_minor": 2
}
