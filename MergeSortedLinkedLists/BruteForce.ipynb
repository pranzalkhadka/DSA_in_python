{
 "cells": [
  {
   "cell_type": "code",
   "execution_count": 6,
   "metadata": {},
   "outputs": [],
   "source": [
    "class ListNode(object):\n",
    "    def __init__(self, val=0, next=None):\n",
    "        self.val = val\n",
    "        self.next = next\n",
    "\n",
    "class Solution(object):\n",
    "    def mergeTwoLists(self, list1, list2):\n",
    "        #Create a dummy node to avoid edge case of writing in empty list\n",
    "        dummy = ListNode()\n",
    "        tail = dummy\n",
    "\n",
    "        list1 = self.createLinkedList(list1)\n",
    "        list2 = self.createLinkedList(list2)\n",
    "\n",
    "        #If any one of the list becomes empty,\n",
    "        #we can just append the remaining parts of the other list to our sorted list\n",
    "        #While list1 and list2 are not empty\n",
    "        while list1 and list2:\n",
    "            if list1.val < list2.val:\n",
    "                tail.next = list1\n",
    "                list1 = list1.next\n",
    "            else:\n",
    "                tail.next = list2\n",
    "                list2 = list2.next\n",
    "            tail = tail.next\n",
    "\n",
    "        #Now handle the case where one list became empty\n",
    "        #If list1 still exists\n",
    "        if list1:\n",
    "            tail.next = list1\n",
    "        #Else if list2 still exists\n",
    "        elif list2:\n",
    "            tail.next = list2\n",
    "        \n",
    "        return dummy.next\n",
    "    \n",
    "    def createLinkedList(self, values):\n",
    "        # Helper method to create a linked list from a list of values\n",
    "        dummy = ListNode()\n",
    "        current = dummy\n",
    "        for val in values:\n",
    "            current.next = ListNode(val)\n",
    "            current = current.next\n",
    "        return dummy.next"
   ]
  },
  {
   "cell_type": "code",
   "execution_count": 7,
   "metadata": {},
   "outputs": [
    {
     "name": "stdout",
     "output_type": "stream",
     "text": [
      "1 1 2 3 4 4 "
     ]
    }
   ],
   "source": [
    "obj = Solution()\n",
    "list1 = [1,2,4]\n",
    "list2 = [1,3,4]\n",
    "result = obj.mergeTwoLists(list1, list2)\n",
    "\n",
    "# Print the result\n",
    "while result:\n",
    "    print(result.val, end=\" \")\n",
    "    result = result.next"
   ]
  },
  {
   "cell_type": "code",
   "execution_count": null,
   "metadata": {},
   "outputs": [],
   "source": []
  }
 ],
 "metadata": {
  "kernelspec": {
   "display_name": "Python 3",
   "language": "python",
   "name": "python3"
  },
  "language_info": {
   "codemirror_mode": {
    "name": "ipython",
    "version": 3
   },
   "file_extension": ".py",
   "mimetype": "text/x-python",
   "name": "python",
   "nbconvert_exporter": "python",
   "pygments_lexer": "ipython3",
   "version": "3.10.12"
  }
 },
 "nbformat": 4,
 "nbformat_minor": 2
}
