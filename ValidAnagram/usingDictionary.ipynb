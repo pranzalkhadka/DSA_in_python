{
 "cells": [
  {
   "cell_type": "code",
   "execution_count": 1,
   "metadata": {},
   "outputs": [],
   "source": [
    "class Solution:\n",
    "    def count_character(self, string):\n",
    "        dict = {}\n",
    "\n",
    "        for i in string:\n",
    "            if i in dict:\n",
    "                dict[i] +=1\n",
    "            else:\n",
    "                dict[i] = 1\n",
    "\n",
    "        return dict\n",
    "    \n",
    "    def isAnagram(self,s,t):\n",
    "        if len(s) != len(t):\n",
    "            return False\n",
    "        dict_s = self.count_character(s)\n",
    "        dict_t = self.count_character(t)\n",
    "\n",
    "        if dict_s == dict_t:\n",
    "            return True\n",
    "        \n",
    "        return False\n"
   ]
  },
  {
   "cell_type": "code",
   "execution_count": 2,
   "metadata": {},
   "outputs": [],
   "source": [
    "s1 = \"anagram\"\n",
    "t1= \"nagaram\"\n",
    "s2 = \"rat\"\n",
    "t2 = \"car\""
   ]
  },
  {
   "cell_type": "code",
   "execution_count": 3,
   "metadata": {},
   "outputs": [],
   "source": [
    "check_anagram = Solution()"
   ]
  },
  {
   "cell_type": "code",
   "execution_count": 4,
   "metadata": {},
   "outputs": [
    {
     "name": "stdout",
     "output_type": "stream",
     "text": [
      "True\n",
      "False\n"
     ]
    }
   ],
   "source": [
    "print(check_anagram.isAnagram(s1,t1))\n",
    "print(check_anagram.isAnagram(s2,t2))"
   ]
  },
  {
   "cell_type": "code",
   "execution_count": null,
   "metadata": {},
   "outputs": [],
   "source": []
  }
 ],
 "metadata": {
  "kernelspec": {
   "display_name": "Python 3",
   "language": "python",
   "name": "python3"
  },
  "language_info": {
   "codemirror_mode": {
    "name": "ipython",
    "version": 3
   },
   "file_extension": ".py",
   "mimetype": "text/x-python",
   "name": "python",
   "nbconvert_exporter": "python",
   "pygments_lexer": "ipython3",
   "version": "3.10.12"
  }
 },
 "nbformat": 4,
 "nbformat_minor": 2
}
