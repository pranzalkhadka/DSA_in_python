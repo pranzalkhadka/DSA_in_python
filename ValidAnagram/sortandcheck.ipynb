{
 "cells": [
  {
   "cell_type": "code",
   "execution_count": 74,
   "metadata": {},
   "outputs": [],
   "source": [
    "class Solution:\n",
    "    def sort(self,str):\n",
    "\n",
    "        str = list(str)\n",
    "\n",
    "        for i in range(len(str)):\n",
    "            for j in range(i+1, len(str)):\n",
    "                if str[i] > str[j]:\n",
    "                    str[i], str[j] = str[j], str[i]\n",
    "\n",
    "        sorted_string = ''\n",
    "\n",
    "        for i in range(len(str)):\n",
    "            sorted_string = sorted_string + str[i]\n",
    "\n",
    "        return sorted_string\n",
    "    \n",
    "    def isAnagram(self,s,t):\n",
    "        if len(s) != len(t):\n",
    "            return False\n",
    "        \n",
    "        sorted_s = self.sort(s)\n",
    "        sorted_t = self.sort(t)\n",
    "\n",
    "        if sorted_s == sorted_t:\n",
    "            return True\n",
    "        \n",
    "        return False"
   ]
  },
  {
   "cell_type": "code",
   "execution_count": 75,
   "metadata": {},
   "outputs": [],
   "source": [
    "s1 = \"anagram\"\n",
    "t1= \"nagaram\"\n",
    "s2 = \"rat\"\n",
    "t2 = \"car\""
   ]
  },
  {
   "cell_type": "code",
   "execution_count": 76,
   "metadata": {},
   "outputs": [],
   "source": [
    "check_anagram = Solution()"
   ]
  },
  {
   "cell_type": "code",
   "execution_count": 77,
   "metadata": {},
   "outputs": [
    {
     "name": "stdout",
     "output_type": "stream",
     "text": [
      "True\n",
      "False\n"
     ]
    }
   ],
   "source": [
    "print(check_anagram.isAnagram(s1,t1))\n",
    "print(check_anagram.isAnagram(s2,t2))"
   ]
  },
  {
   "cell_type": "code",
   "execution_count": null,
   "metadata": {},
   "outputs": [],
   "source": []
  }
 ],
 "metadata": {
  "kernelspec": {
   "display_name": "Python 3",
   "language": "python",
   "name": "python3"
  },
  "language_info": {
   "codemirror_mode": {
    "name": "ipython",
    "version": 3
   },
   "file_extension": ".py",
   "mimetype": "text/x-python",
   "name": "python",
   "nbconvert_exporter": "python",
   "pygments_lexer": "ipython3",
   "version": "3.10.12"
  }
 },
 "nbformat": 4,
 "nbformat_minor": 2
}
