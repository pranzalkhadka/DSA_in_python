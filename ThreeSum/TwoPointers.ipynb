{
 "cells": [
  {
   "cell_type": "code",
   "execution_count": 8,
   "metadata": {},
   "outputs": [],
   "source": [
    "class Solution:\n",
    "    def threeSum(self,arr):\n",
    "        result =[]\n",
    "        arr.sort()\n",
    "\n",
    "        for i,v in enumerate(arr):\n",
    "            if i > 0 and v == arr[i-1]:\n",
    "                #This means except first element, we will not use duplicate values again\n",
    "                continue\n",
    "\n",
    "            #After this, its just two sum with two pointers\n",
    "            l , r = i+1 , len(arr) - 1\n",
    "            while(l<r):\n",
    "                three_sum = v + arr[l] + arr[r]\n",
    "                if three_sum > 0:\n",
    "                    r = r - 1\n",
    "                elif three_sum < 0:\n",
    "                    l = l + 1\n",
    "                elif three_sum == 0:\n",
    "                    result.append([v,arr[l],arr[r]])\n",
    "\n",
    "                    #Now just increase left until there is no repeated value\n",
    "                    #For right, we dont need to worry about repetition because even if the value is repeated the sum will still not be zero\n",
    "                    l = l + 1\n",
    "                    while(arr[l] == arr[l-1] and l <r ):\n",
    "                        l = l + 1\n",
    "\n",
    "        return result"
   ]
  },
  {
   "cell_type": "code",
   "execution_count": 9,
   "metadata": {},
   "outputs": [],
   "source": [
    "obj = Solution()"
   ]
  },
  {
   "cell_type": "code",
   "execution_count": 10,
   "metadata": {},
   "outputs": [],
   "source": [
    "arr = [-1,0,1,2,-1,-4]"
   ]
  },
  {
   "cell_type": "code",
   "execution_count": 11,
   "metadata": {},
   "outputs": [
    {
     "data": {
      "text/plain": [
       "[[-1, -1, 2], [-1, 0, 1]]"
      ]
     },
     "execution_count": 11,
     "metadata": {},
     "output_type": "execute_result"
    }
   ],
   "source": [
    "obj.threeSum(arr)"
   ]
  },
  {
   "cell_type": "code",
   "execution_count": null,
   "metadata": {},
   "outputs": [],
   "source": []
  }
 ],
 "metadata": {
  "kernelspec": {
   "display_name": "Python 3",
   "language": "python",
   "name": "python3"
  },
  "language_info": {
   "codemirror_mode": {
    "name": "ipython",
    "version": 3
   },
   "file_extension": ".py",
   "mimetype": "text/x-python",
   "name": "python",
   "nbconvert_exporter": "python",
   "pygments_lexer": "ipython3",
   "version": "3.10.12"
  }
 },
 "nbformat": 4,
 "nbformat_minor": 2
}
