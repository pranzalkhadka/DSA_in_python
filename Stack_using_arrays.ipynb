{
 "cells": [
  {
   "cell_type": "code",
   "execution_count": 50,
   "metadata": {},
   "outputs": [],
   "source": [
    "class Stack:\n",
    "    def __init__(self,size):\n",
    "        #size is the maximum capacity of stack\n",
    "        self.size = size\n",
    "        self.stack = [None] * self.size\n",
    "        #top will be -1 when stack is empty\n",
    "        self.top = -1\n",
    "\n",
    "    def push(self,value):\n",
    "            if self.top == self.size - 1:\n",
    "                return \"Stack is Full\"\n",
    "            else:\n",
    "                self.top += 1\n",
    "                self.stack[self.top] = value\n",
    "\n",
    "    def pop(self):\n",
    "\n",
    "            if self.top == -1:\n",
    "                return \"Stack is Empty\"\n",
    "            else:\n",
    "                data = self.stack[self.top]\n",
    "                self.top -= 1\n",
    "                print(data)\n",
    "\n",
    "    def traverse(self):\n",
    "            for i in range(self.top + 1):\n",
    "                print(self.stack[i],end=' ')\n"
   ]
  },
  {
   "cell_type": "code",
   "execution_count": 51,
   "metadata": {},
   "outputs": [],
   "source": [
    "s = Stack(3)"
   ]
  },
  {
   "cell_type": "code",
   "execution_count": 52,
   "metadata": {},
   "outputs": [],
   "source": [
    "s.push(5)\n",
    "s.push(2)\n",
    "s.push(9)"
   ]
  },
  {
   "cell_type": "code",
   "execution_count": 53,
   "metadata": {},
   "outputs": [
    {
     "name": "stdout",
     "output_type": "stream",
     "text": [
      "5 2 9 "
     ]
    }
   ],
   "source": [
    "s.traverse()"
   ]
  },
  {
   "cell_type": "code",
   "execution_count": 54,
   "metadata": {},
   "outputs": [
    {
     "name": "stdout",
     "output_type": "stream",
     "text": [
      "9\n"
     ]
    }
   ],
   "source": [
    "s.pop()"
   ]
  },
  {
   "cell_type": "code",
   "execution_count": 55,
   "metadata": {},
   "outputs": [
    {
     "name": "stdout",
     "output_type": "stream",
     "text": [
      "5 2 "
     ]
    }
   ],
   "source": [
    "s.traverse()"
   ]
  },
  {
   "cell_type": "code",
   "execution_count": null,
   "metadata": {},
   "outputs": [],
   "source": []
  }
 ],
 "metadata": {
  "kernelspec": {
   "display_name": "Python 3",
   "language": "python",
   "name": "python3"
  },
  "language_info": {
   "codemirror_mode": {
    "name": "ipython",
    "version": 3
   },
   "file_extension": ".py",
   "mimetype": "text/x-python",
   "name": "python",
   "nbconvert_exporter": "python",
   "pygments_lexer": "ipython3",
   "version": "3.10.12"
  },
  "orig_nbformat": 4
 },
 "nbformat": 4,
 "nbformat_minor": 2
}
