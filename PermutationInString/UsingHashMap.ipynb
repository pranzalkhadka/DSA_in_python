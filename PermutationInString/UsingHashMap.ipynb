{
 "cells": [
  {
   "cell_type": "code",
   "execution_count": 37,
   "metadata": {},
   "outputs": [],
   "source": [
    "class Solution(object):\n",
    "    def checkInclusion(self, s1, s2):\n",
    "        start = 0\n",
    "        hashmap_s1 = {}\n",
    "        for i in s1:\n",
    "            hashmap_s1[i] = hashmap_s1.get(i, 0) + 1\n",
    "        while start + len(s1) <= len(s2):\n",
    "            window = s2[start:start+len(s1)]\n",
    "            hashmap = {}\n",
    "            for k in window:\n",
    "                hashmap[k] = hashmap.get(k, 0) + 1\n",
    "            if hashmap_s1 == hashmap:\n",
    "                return True\n",
    "            start += 1\n",
    "        return False"
   ]
  },
  {
   "cell_type": "code",
   "execution_count": 38,
   "metadata": {},
   "outputs": [
    {
     "data": {
      "text/plain": [
       "True"
      ]
     },
     "execution_count": 38,
     "metadata": {},
     "output_type": "execute_result"
    }
   ],
   "source": [
    "s1 = \"ab\"\n",
    "s2 = \"eidbaooo\"\n",
    "obj = Solution()\n",
    "obj.checkInclusion(s1,s2)"
   ]
  },
  {
   "cell_type": "code",
   "execution_count": null,
   "metadata": {},
   "outputs": [],
   "source": []
  }
 ],
 "metadata": {
  "kernelspec": {
   "display_name": "Python 3",
   "language": "python",
   "name": "python3"
  },
  "language_info": {
   "codemirror_mode": {
    "name": "ipython",
    "version": 3
   },
   "file_extension": ".py",
   "mimetype": "text/x-python",
   "name": "python",
   "nbconvert_exporter": "python",
   "pygments_lexer": "ipython3",
   "version": "3.10.12"
  }
 },
 "nbformat": 4,
 "nbformat_minor": 2
}
