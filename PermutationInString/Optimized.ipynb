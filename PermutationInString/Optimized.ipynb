{
 "cells": [
  {
   "cell_type": "code",
   "execution_count": 2,
   "metadata": {},
   "outputs": [],
   "source": [
    "class Solution(object):\n",
    "    def checkInclusion(self, s1, s2):\n",
    "        if len(s1) > len(s2):\n",
    "            return False\n",
    "        s1Count, s2Count = [0] * 26, [0] * 26\n",
    "        for i in range(len(s1)):\n",
    "            s1Count[ord(s1[i])- ord('a')] += 1\n",
    "            s2Count[ord(s2[i])- ord('a')] += 1\n",
    "        \n",
    "        matches = 0\n",
    "        for i in range(26):\n",
    "            matches += (1 if s1Count[i] == s2Count[i] else 0)\n",
    "        l = 0\n",
    "        for r in range(len(s1), len(s2)):\n",
    "            if matches == 26:\n",
    "                return True\n",
    "            \n",
    "            index = ord(s2[r]) - ord('a')\n",
    "            s2Count[index] += 1\n",
    "            if s1Count[index] == s2Count[index]:\n",
    "                matches += 1\n",
    "            elif s1Count[index] + 1 == s2Count[index]:\n",
    "                matches -= 1\n",
    "\n",
    "            index = ord(s2[l]) - ord('a')\n",
    "            s2Count[index] -= 1\n",
    "            if s1Count[index] == s2Count[index]:\n",
    "                matches += 1\n",
    "            elif s1Count[index] - 1 == s2Count[index]:\n",
    "                matches -= 1\n",
    "\n",
    "            l += 1\n",
    "\n",
    "        return matches == 26"
   ]
  },
  {
   "cell_type": "code",
   "execution_count": 3,
   "metadata": {},
   "outputs": [
    {
     "data": {
      "text/plain": [
       "True"
      ]
     },
     "execution_count": 3,
     "metadata": {},
     "output_type": "execute_result"
    }
   ],
   "source": [
    "s1 = \"ab\"\n",
    "s2 = \"eidbaooo\"\n",
    "obj = Solution()\n",
    "obj.checkInclusion(s1,s2)"
   ]
  },
  {
   "cell_type": "code",
   "execution_count": null,
   "metadata": {},
   "outputs": [],
   "source": []
  }
 ],
 "metadata": {
  "kernelspec": {
   "display_name": "Python 3",
   "language": "python",
   "name": "python3"
  },
  "language_info": {
   "codemirror_mode": {
    "name": "ipython",
    "version": 3
   },
   "file_extension": ".py",
   "mimetype": "text/x-python",
   "name": "python",
   "nbconvert_exporter": "python",
   "pygments_lexer": "ipython3",
   "version": "3.10.12"
  }
 },
 "nbformat": 4,
 "nbformat_minor": 2
}
