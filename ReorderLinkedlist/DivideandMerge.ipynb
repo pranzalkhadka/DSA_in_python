{
 "cells": [
  {
   "cell_type": "code",
   "execution_count": 1,
   "metadata": {},
   "outputs": [],
   "source": [
    "class Solution(object):\n",
    "    def reorderList(self, head):\n",
    "        #First we will divide the linked list into two halves\n",
    "        slow , fast = head, head.next\n",
    "\n",
    "        #While fast or fast.next is not null\n",
    "        while fast and fast.next:\n",
    "            slow = slow.next\n",
    "            fast = fast.next.next\n",
    "\n",
    "        #Now we will reverse the second linked list\n",
    "        second = slow.next\n",
    "        prev = slow.next = None\n",
    "        while second:\n",
    "            tmp = second.next\n",
    "            second.next = prev\n",
    "            prev = second\n",
    "            second = tmp\n",
    "\n",
    "        #Now we will merge the linked list according to our question\n",
    "        first, second = head, prev\n",
    "        #While second is not null\n",
    "        while second:\n",
    "            tmp1, tmp2 = first.next, second.next\n",
    "            first.next = second\n",
    "            second.next = tmp1\n",
    "            first, second = tmp1, tmp2"
   ]
  },
  {
   "cell_type": "code",
   "execution_count": null,
   "metadata": {},
   "outputs": [],
   "source": []
  }
 ],
 "metadata": {
  "kernelspec": {
   "display_name": "Python 3",
   "language": "python",
   "name": "python3"
  },
  "language_info": {
   "codemirror_mode": {
    "name": "ipython",
    "version": 3
   },
   "file_extension": ".py",
   "mimetype": "text/x-python",
   "name": "python",
   "nbconvert_exporter": "python",
   "pygments_lexer": "ipython3",
   "version": "3.10.12"
  }
 },
 "nbformat": 4,
 "nbformat_minor": 2
}
