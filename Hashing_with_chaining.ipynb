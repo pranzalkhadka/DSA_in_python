{
 "cells": [
  {
   "cell_type": "markdown",
   "metadata": {},
   "source": [
    "Hashing with chaining is basically an array of linkedlist. S, each cell of the array is not just a cell that stores a value but each cell is a linkedlist."
   ]
  },
  {
   "cell_type": "code",
   "execution_count": 43,
   "metadata": {},
   "outputs": [],
   "source": [
    "class Node:\n",
    "    \n",
    "    def __init__(self,key,value):\n",
    "\n",
    "        self.key = key\n",
    "        self.value = value\n",
    "        self.next = None"
   ]
  },
  {
   "cell_type": "code",
   "execution_count": 44,
   "metadata": {},
   "outputs": [],
   "source": [
    "class LinkedList:\n",
    "    \n",
    "    def __init__(self):\n",
    "\n",
    "        self.head = None\n",
    "\n",
    "\n",
    "    def add(self, key, value):\n",
    "\n",
    "        new_node = Node(key, value)\n",
    "\n",
    "        if self.head == None:\n",
    "            self.head = new_node\n",
    "        else:\n",
    "            temp = self.head\n",
    "\n",
    "            while temp.next != None:\n",
    "                temp = temp.next\n",
    "\n",
    "            temp.next = new_node\n",
    "\n",
    "\n",
    "    def delete_head(self):\n",
    "\n",
    "        if self.head == None:\n",
    "            return \"Empty\"\n",
    "        else:\n",
    "            self.head = self.head.next\n",
    "\n",
    "\n",
    "    def remove(self, key):\n",
    "\n",
    "        if self.head.key == key:\n",
    "            self.delete_head()\n",
    "            return \n",
    "\n",
    "        if self.head == None:\n",
    "            return \"Empty\"\n",
    "        else:\n",
    "            temp = self.head\n",
    "\n",
    "            while temp.next != None:\n",
    "                if temp.next.key == key:\n",
    "                    break\n",
    "                temp = temp.next\n",
    "\n",
    "            if temp.next == None:\n",
    "                return \"Not Found\"\n",
    "            else:\n",
    "                temp.next = temp.next.next\n",
    "\n",
    "    \n",
    "    def traverse(self):\n",
    "\n",
    "        temp = self.head\n",
    "\n",
    "        while temp != None:\n",
    "\n",
    "            print(temp.key,\"-->\",temp.value,\" \", end=\" \")\n",
    "            temp = temp.next\n",
    "\n",
    "\n",
    "    def search(self,key):\n",
    "\n",
    "        temp = self.head\n",
    "        pos = 0\n",
    "\n",
    "        while temp != None:\n",
    "            if temp.key == key:\n",
    "                return pos\n",
    "            temp = temp.next\n",
    "            pos += 1\n",
    "\n",
    "        return -1\n",
    "    \n",
    "    def get_node_at_index(self,index):\n",
    "\n",
    "            temp = self.head\n",
    "            counter = 0\n",
    "\n",
    "            while temp is not None:\n",
    "                if counter == index:\n",
    "                    return temp\n",
    "                \n",
    "                temp = temp.next\n",
    "                counter+=1"
   ]
  },
  {
   "cell_type": "code",
   "execution_count": 45,
   "metadata": {},
   "outputs": [],
   "source": [
    "class Dictionary:\n",
    "\n",
    "    def __init__(self,capacity):\n",
    "        \n",
    "        #capacity is the capacity of the dictionary\n",
    "        self.capacity = capacity\n",
    "        #size is the number of key-value pairs in the dictionary\n",
    "        self.size = 0\n",
    "        #create an array of linkedlist\n",
    "        self.buckets = self.create_array(self.capacity)\n",
    "\n",
    "    def create_array(self,capacity):\n",
    "\n",
    "        L = []\n",
    "        for i in range(capacity):\n",
    "            #Insert Objects of linkedlist class into the empty list(array) of required capacity such that the array now becomes an array of linkedlist\n",
    "            L.append(LinkedList())\n",
    "        return L\n",
    "    \n",
    "    def put(self,key,value):\n",
    "\n",
    "        bucket_index = self.hash_function(key)\n",
    "        node_index = self.get_node_index(bucket_index,key)\n",
    "\n",
    "        if node_index == -1:\n",
    "            #Key was not found so a new key value pair has to be inserted\n",
    "            self.buckets[bucket_index].add(key,value)\n",
    "            self.size += 1\n",
    "        else:\n",
    "            #Key was found so update the key with the new value\n",
    "            #If this is the case, we need to find the node where that key is\n",
    "            node = self.buckets[bucket_index].get_node_at_index(node_index)\n",
    "            node.value = value\n",
    "            \n",
    "\n",
    "    def get_node_index(self,bucket_index,key):\n",
    "\n",
    "        node_index = self.buckets[bucket_index].search(key)\n",
    "        return node_index\n",
    "\n",
    "    def hash_function(self,key):\n",
    "        return abs(hash(key)) % self.capacity"
   ]
  },
  {
   "cell_type": "code",
   "execution_count": 46,
   "metadata": {},
   "outputs": [],
   "source": [
    "d = Dictionary(5)"
   ]
  },
  {
   "cell_type": "code",
   "execution_count": 47,
   "metadata": {},
   "outputs": [],
   "source": [
    "d.put(2,\"Pranjal\")"
   ]
  },
  {
   "cell_type": "code",
   "execution_count": 48,
   "metadata": {},
   "outputs": [
    {
     "name": "stdout",
     "output_type": "stream",
     "text": [
      "2 --> Pranjal   "
     ]
    }
   ],
   "source": [
    "d.buckets[2].traverse()"
   ]
  },
  {
   "cell_type": "code",
   "execution_count": 49,
   "metadata": {},
   "outputs": [],
   "source": [
    "d.put(3,\"Ram\")"
   ]
  },
  {
   "cell_type": "code",
   "execution_count": 50,
   "metadata": {},
   "outputs": [],
   "source": [
    "d.buckets[0].traverse()"
   ]
  },
  {
   "cell_type": "code",
   "execution_count": 51,
   "metadata": {},
   "outputs": [],
   "source": [
    "d.put(12,\"Shyam\")\n",
    "d.put(22,\"Jack\")\n",
    "d.put(42,\"smith\")"
   ]
  },
  {
   "cell_type": "code",
   "execution_count": 58,
   "metadata": {},
   "outputs": [
    {
     "name": "stdout",
     "output_type": "stream",
     "text": [
      "3 --> Ram   "
     ]
    }
   ],
   "source": [
    "d.buckets[3].traverse()"
   ]
  },
  {
   "cell_type": "code",
   "execution_count": 59,
   "metadata": {},
   "outputs": [
    {
     "name": "stdout",
     "output_type": "stream",
     "text": [
      "2 --> Pranjal   12 --> Shyam   22 --> Jack   42 --> smith   "
     ]
    }
   ],
   "source": [
    "d.buckets[2].traverse()"
   ]
  },
  {
   "cell_type": "code",
   "execution_count": null,
   "metadata": {},
   "outputs": [],
   "source": []
  }
 ],
 "metadata": {
  "kernelspec": {
   "display_name": "Python 3",
   "language": "python",
   "name": "python3"
  },
  "language_info": {
   "codemirror_mode": {
    "name": "ipython",
    "version": 3
   },
   "file_extension": ".py",
   "mimetype": "text/x-python",
   "name": "python",
   "nbconvert_exporter": "python",
   "pygments_lexer": "ipython3",
   "version": "3.10.12"
  },
  "orig_nbformat": 4
 },
 "nbformat": 4,
 "nbformat_minor": 2
}
