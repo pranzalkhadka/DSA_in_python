{
 "cells": [
  {
   "cell_type": "code",
   "execution_count": 1,
   "metadata": {},
   "outputs": [
    {
     "name": "stdout",
     "output_type": "stream",
     "text": [
      "5\n"
     ]
    }
   ],
   "source": [
    "def maxCostOfOneDay(cost, labels, dailyCount):\n",
    "    n = len(cost)\n",
    "    max_cost = 0\n",
    "    legal_count = 0\n",
    "    window_cost = 0\n",
    "    \n",
    "    for i in range(n):\n",
    "        if labels[i] == \"legal\":\n",
    "            legal_count += 1\n",
    "        window_cost += cost[i]\n",
    "        \n",
    "        if legal_count == dailyCount:\n",
    "            max_cost = max(max_cost, window_cost)\n",
    "            window_cost = 0\n",
    "            legal_count = 0\n",
    "            \n",
    "        elif legal_count > dailyCount:\n",
    "            while legal_count > dailyCount:\n",
    "                if labels[i - legal_count + 1] == \"legal\":\n",
    "                    legal_count -= 1\n",
    "                window_cost -= cost[i - legal_count + 1]\n",
    "    \n",
    "    return max_cost\n",
    "\n",
    "cost = [0, 3, 2, 3, 4]\n",
    "labels = [\"legal\", \"legal\", \"illegal\", \"legal\", \"legal\"]\n",
    "dailyCount = 1\n",
    "result = maxCostOfOneDay(cost, labels, dailyCount)\n",
    "print(result) "
   ]
  },
  {
   "cell_type": "code",
   "execution_count": null,
   "metadata": {},
   "outputs": [],
   "source": []
  }
 ],
 "metadata": {
  "kernelspec": {
   "display_name": "Python 3",
   "language": "python",
   "name": "python3"
  },
  "language_info": {
   "codemirror_mode": {
    "name": "ipython",
    "version": 3
   },
   "file_extension": ".py",
   "mimetype": "text/x-python",
   "name": "python",
   "nbconvert_exporter": "python",
   "pygments_lexer": "ipython3",
   "version": "3.10.12"
  }
 },
 "nbformat": 4,
 "nbformat_minor": 2
}
