{
 "cells": [
  {
   "cell_type": "code",
   "execution_count": null,
   "metadata": {},
   "outputs": [],
   "source": [
    "class Solution:\n",
    "    def isalphanum(self,c):\n",
    "        return (ord('A') <= ord(c) <= ord('Z') or\n",
    "                ord('a') <= ord(c) <= ord('z') or\n",
    "                ord('0') <= ord(c) <= ord('9'))\n",
    "    \n",
    "    def isPalindrome(self,str):\n",
    "        l , r = 0, len(str)-1\n",
    "\n",
    "        while l < r:\n",
    "            while l<r and not self.isalphanum(str[l]):\n",
    "                l = l + 1\n",
    "            while r>l and not self.isalphanum(str[r]):\n",
    "                r = r -1\n",
    "            if str[l].lower() != str[r].lower():\n",
    "                return False\n",
    "            l , r = l + 1, r - 1\n",
    "\n",
    "        return True"
   ]
  }
 ],
 "metadata": {
  "language_info": {
   "name": "python"
  }
 },
 "nbformat": 4,
 "nbformat_minor": 2
}
