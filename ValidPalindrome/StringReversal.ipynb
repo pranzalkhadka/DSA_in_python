{
 "cells": [
  {
   "cell_type": "code",
   "execution_count": 45,
   "metadata": {},
   "outputs": [],
   "source": [
    "class Solution:\n",
    "    def isPalindrome(self,str):\n",
    "        new_str = \"\"\n",
    "        for i in str:\n",
    "            if i.isalnum():\n",
    "                new_str = new_str + i\n",
    "\n",
    "        new_str = new_str.lower()\n",
    "        reversed_str = \"\"\n",
    "        for i in new_str:\n",
    "            reversed_str = i + reversed_str\n",
    "        \n",
    "        if new_str == reversed_str:\n",
    "            return True\n",
    "        else:\n",
    "            return False"
   ]
  },
  {
   "cell_type": "code",
   "execution_count": 46,
   "metadata": {},
   "outputs": [],
   "source": [
    "obj = Solution()"
   ]
  },
  {
   "cell_type": "code",
   "execution_count": 47,
   "metadata": {},
   "outputs": [],
   "source": [
    "str1 = \"A man, a plan, a canal: Panama\"\n",
    "str2 = \"race a car\"\n",
    "str3 = \" \""
   ]
  },
  {
   "cell_type": "code",
   "execution_count": 49,
   "metadata": {},
   "outputs": [
    {
     "name": "stdout",
     "output_type": "stream",
     "text": [
      "True\n",
      "False\n",
      "True\n"
     ]
    }
   ],
   "source": [
    "print(obj.isPalindrome(str1))\n",
    "print(obj.isPalindrome(str2))\n",
    "print(obj.isPalindrome(str3))"
   ]
  },
  {
   "cell_type": "code",
   "execution_count": null,
   "metadata": {},
   "outputs": [],
   "source": []
  }
 ],
 "metadata": {
  "kernelspec": {
   "display_name": "Python 3",
   "language": "python",
   "name": "python3"
  },
  "language_info": {
   "codemirror_mode": {
    "name": "ipython",
    "version": 3
   },
   "file_extension": ".py",
   "mimetype": "text/x-python",
   "name": "python",
   "nbconvert_exporter": "python",
   "pygments_lexer": "ipython3",
   "version": "3.10.12"
  }
 },
 "nbformat": 4,
 "nbformat_minor": 2
}
