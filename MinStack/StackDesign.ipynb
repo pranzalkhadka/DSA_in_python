{
 "cells": [
  {
   "cell_type": "code",
   "execution_count": 2,
   "metadata": {},
   "outputs": [],
   "source": [
    "class MinStack(object):\n",
    "\n",
    "    def __init__(self):\n",
    "        self.stack = []\n",
    "        #One stack to store the elements\n",
    "        self.minValue = []\n",
    "        #Another stack to hold the minimum value at each position\n",
    "\n",
    "    def push(self,value):\n",
    "        self.stack.append(value)\n",
    "        if self.minValue:\n",
    "            #If stack is not empty\n",
    "            value = min(value, self.minValue[-1])\n",
    "        else:\n",
    "            value = min(value, value)\n",
    "        self.minValue.append(value)\n",
    "\n",
    "    def pop(self):\n",
    "        self.stack.pop()\n",
    "        self.minValue.pop()\n",
    "\n",
    "    def top(self):\n",
    "        return self.stack[-1]\n",
    "\n",
    "    def getMin(self):\n",
    "        return self.minValue[-1]"
   ]
  },
  {
   "cell_type": "code",
   "execution_count": null,
   "metadata": {},
   "outputs": [],
   "source": []
  }
 ],
 "metadata": {
  "kernelspec": {
   "display_name": "Python 3",
   "language": "python",
   "name": "python3"
  },
  "language_info": {
   "codemirror_mode": {
    "name": "ipython",
    "version": 3
   },
   "file_extension": ".py",
   "mimetype": "text/x-python",
   "name": "python",
   "nbconvert_exporter": "python",
   "pygments_lexer": "ipython3",
   "version": "3.10.12"
  }
 },
 "nbformat": 4,
 "nbformat_minor": 2
}
