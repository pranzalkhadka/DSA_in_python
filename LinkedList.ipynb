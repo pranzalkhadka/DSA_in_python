{
 "cells": [
  {
   "cell_type": "markdown",
   "metadata": {},
   "source": [
    "LinkedList are used in those cases where write operations are performed frequently because there is no need to shift all other elements like in array."
   ]
  },
  {
   "cell_type": "code",
   "execution_count": 51,
   "metadata": {},
   "outputs": [],
   "source": [
    "class Node:\n",
    "    def __init__(self,value):\n",
    "        self.data = value\n",
    "        self.next = None"
   ]
  },
  {
   "cell_type": "code",
   "execution_count": 52,
   "metadata": {},
   "outputs": [],
   "source": [
    "N1 = Node(2)\n",
    "N2 = Node(3)\n",
    "N3 = Node(4)"
   ]
  },
  {
   "cell_type": "code",
   "execution_count": 53,
   "metadata": {},
   "outputs": [
    {
     "name": "stdout",
     "output_type": "stream",
     "text": [
      "3\n"
     ]
    }
   ],
   "source": [
    "print(N2.data)"
   ]
  },
  {
   "cell_type": "code",
   "execution_count": 54,
   "metadata": {},
   "outputs": [],
   "source": [
    "N1.next = N2\n",
    "N2.next = N3"
   ]
  },
  {
   "cell_type": "code",
   "execution_count": 422,
   "metadata": {},
   "outputs": [],
   "source": [
    "class LinkedList:\n",
    "    def __init__(self):\n",
    "        #Setting head to None means linkedlist is currently empty\n",
    "        self.head = None\n",
    "        #n denotes the number of nodes in the linked list\n",
    "        self.n = 0\n",
    "\n",
    "    def __len__(self):\n",
    "        #len of linkedlist is simply the number of nodes in the linkedlist\n",
    "        return self.n\n",
    "    \n",
    "    def insert_head(self,value):\n",
    "        new_node = Node(value)\n",
    "        new_node.next = self.head\n",
    "        self.head = new_node\n",
    "        self.n = self.n+1\n",
    "\n",
    "    def append(self,value):\n",
    "        new_node = Node(value)\n",
    "\n",
    "        #If linkedlist is empty just make new node as head and return\n",
    "        if self.head == None:\n",
    "            self.head = new_node\n",
    "            self.n = self.n + 1\n",
    "            return\n",
    "\n",
    "        current = self.head\n",
    "\n",
    "        while(current.next != None):\n",
    "            current = current.next\n",
    "            #This loop takes us to the tail node. Now just make tail's next equal to new node and reassign new node as tail\n",
    "        current.next = new_node\n",
    "        self.n = self.n + 1\n",
    "\n",
    "    def insert(self,after,value):\n",
    "        new_node = Node(value)\n",
    "\n",
    "        current = self.head\n",
    "        while(current != None):\n",
    "            if current.data == after:\n",
    "                break\n",
    "            current = current.next\n",
    "\n",
    "        #If current != None , it means that the item has been found but if current == None, it means item was not found\n",
    "        if current != None:\n",
    "            new_node.next = current.next\n",
    "            current.next = new_node\n",
    "            self.n = self.n + 1\n",
    "        else:\n",
    "            return \"Item not found\"\n",
    "        \n",
    "    def clear(self):\n",
    "        self.head = None\n",
    "        self.n = 0\n",
    "\n",
    "    def delete_head(self):\n",
    "        if self.head == None:\n",
    "            return \"LinkedList is empty\"\n",
    "\n",
    "        #To delete head just make the head's next as new head\n",
    "        self.head = self.head.next\n",
    "        self.n = self.n - 1\n",
    "\n",
    "    def pop(self):\n",
    "        if self.head == None:\n",
    "            return \"Linkedlist is empty\"\n",
    "        \n",
    "        current = self.head\n",
    "\n",
    "        #If linkedlist has only one item there is no next of next. So, just run the delete head function\n",
    "        if current.next == None:\n",
    "            return self.delete_head()\n",
    "\n",
    "        while(current.next.next != None):\n",
    "            #next.next returns the second last node of the linkedlist\n",
    "            current = current.next\n",
    "\n",
    "        current.next = None\n",
    "        self.n = self.n-1\n",
    "\n",
    "    def remove(self,value):\n",
    "        \n",
    "        if self.head == None:\n",
    "            return \"Linkedlist is empty\"\n",
    "        \n",
    "        #If the value to be deleted is head node, just return the delete head function\n",
    "        if self.head.data == value:\n",
    "            return self.delete_head()\n",
    "        \n",
    "        current = self.head\n",
    "\n",
    "        while(current.next != None):\n",
    "            if current.next.data == value:\n",
    "                break\n",
    "            current = current.next\n",
    "\n",
    "        #If value is not found, the loop will stop at tail node. Hence, if current.next == None, it means value was not found\n",
    "        if current.next == None:\n",
    "            return \"Value not found\"\n",
    "        else:\n",
    "            current.next = current.next.next\n",
    "\n",
    "    def search(self,item):\n",
    "\n",
    "        current = self.head\n",
    "        #position is the index value which starts from 0\n",
    "        position = 0\n",
    "\n",
    "        while current != None:\n",
    "            if current.data == item:\n",
    "                #If item is found just return it\n",
    "                return position\n",
    "            current = current.next\n",
    "            position = position + 1\n",
    "\n",
    "        #If item is not found return with error statement\n",
    "        return \"Item not found\"\n",
    "\n",
    "    def __getitem__(self,index):\n",
    "\n",
    "        current = self.head\n",
    "        position = 0\n",
    "\n",
    "        while current != None:\n",
    "            if position == index:\n",
    "                #return the value when given index matches the position\n",
    "                return current.data\n",
    "            \n",
    "            current = current.next\n",
    "            position = position + 1\n",
    "\n",
    "        return \"Index not found\"\n",
    "    \n",
    "    def max(self):\n",
    "        #returns the maximum value in linkedlist\n",
    "\n",
    "        if self.head == None:\n",
    "            return \"Linkedlist is empty\"\n",
    "\n",
    "        current = self.head\n",
    "        max_value = 0\n",
    "\n",
    "        while current.next != None:\n",
    "            if current.data > max_value:\n",
    "                #compare data of each node and replace max_value variable with the maximum value of linkedlist\n",
    "                max_value = current.data\n",
    "            current = current.next\n",
    "\n",
    "        return max_value\n",
    "\n",
    "    def replace_max_value(self,item):\n",
    "        #replaces the maximum value in linkedlist\n",
    "\n",
    "        #returns the maximum value in linkedlist\n",
    "        max_value = self.max()\n",
    "\n",
    "        #returns the index of maximum value in linkedlist\n",
    "        max_value_index = self.search(max_value)\n",
    "\n",
    "        current = self.head\n",
    "        position = 0\n",
    "\n",
    "        while current != None:\n",
    "            if position == max_value_index:\n",
    "                #When index of maximum value is found, replace it with the given value\n",
    "                current.data = item\n",
    "\n",
    "            current = current.next\n",
    "            position = position + 1\n",
    "\n",
    "    def sum_odd_index(self):\n",
    "        #returns sum of odd indexes of the linkedlist\n",
    "\n",
    "        current = self.head\n",
    "        position = 0\n",
    "        sum = 0\n",
    "\n",
    "        while current != None:\n",
    "            if position%2 == 1:\n",
    "                #If index is odd, get the value of that index and add it to the sum variable\n",
    "                value = self.__getitem__(position)\n",
    "                sum = sum + value\n",
    "\n",
    "            current = current.next\n",
    "            position = position + 1\n",
    "\n",
    "        return sum\n",
    "    \n",
    "    def reverse(self):\n",
    "        #In place reversal, not making a copy of the linkedlist\n",
    "        \n",
    "        #Since initially current node is head so the first previous node is None\n",
    "        curr_node = self.head\n",
    "        prev_node = None\n",
    "\n",
    "        while curr_node != None:\n",
    "            #First store the next connection before creating a backward connection because once we create backward connection, the next connection will be lost and\n",
    "            #we cannot traverse forward anymore\n",
    "            next_node = curr_node.next\n",
    "            curr_node.next = prev_node\n",
    "\n",
    "            #Increase current and previous nodes\n",
    "            prev_node = curr_node\n",
    "            curr_node = next_node\n",
    "\n",
    "        #At the end of while loop, current node will be at None and previous node will be at tail which needs to be made head to sucessfully reverse the linkedlist\n",
    "        self.head = prev_node\n",
    "\n",
    "\n",
    "    def __str__(self):\n",
    "        current = self.head\n",
    "        result =''\n",
    "\n",
    "        while(current != None):\n",
    "            result = result + str(current.data) + '->'\n",
    "            current = current.next\n",
    "            #current will contain None from tail node and the while loop will break\n",
    "\n",
    "        #Slice to remove the last dash and arrow\n",
    "        return result[:-2]\n"
   ]
  },
  {
   "cell_type": "code",
   "execution_count": 423,
   "metadata": {},
   "outputs": [],
   "source": [
    "L = LinkedList()"
   ]
  },
  {
   "cell_type": "code",
   "execution_count": 424,
   "metadata": {},
   "outputs": [],
   "source": [
    "L.insert_head(2)\n",
    "L.insert_head(1)\n",
    "L.insert_head(4)\n",
    "L.insert_head(5)\n",
    "L.insert_head(9)\n",
    "L.insert_head(19)\n",
    "L.insert_head(8)"
   ]
  },
  {
   "cell_type": "code",
   "execution_count": 425,
   "metadata": {},
   "outputs": [
    {
     "data": {
      "text/plain": [
       "7"
      ]
     },
     "execution_count": 425,
     "metadata": {},
     "output_type": "execute_result"
    }
   ],
   "source": [
    "len(L)"
   ]
  },
  {
   "cell_type": "code",
   "execution_count": 426,
   "metadata": {},
   "outputs": [
    {
     "name": "stdout",
     "output_type": "stream",
     "text": [
      "8->19->9->5->4->1->2\n"
     ]
    }
   ],
   "source": [
    "print(L)"
   ]
  },
  {
   "cell_type": "code",
   "execution_count": 427,
   "metadata": {},
   "outputs": [],
   "source": [
    "L.append(12)"
   ]
  },
  {
   "cell_type": "code",
   "execution_count": 428,
   "metadata": {},
   "outputs": [
    {
     "name": "stdout",
     "output_type": "stream",
     "text": [
      "8->19->9->5->4->1->2->12\n"
     ]
    }
   ],
   "source": [
    "print(L)"
   ]
  },
  {
   "cell_type": "code",
   "execution_count": 429,
   "metadata": {},
   "outputs": [],
   "source": [
    "L.insert(2,7)"
   ]
  },
  {
   "cell_type": "code",
   "execution_count": 430,
   "metadata": {},
   "outputs": [
    {
     "name": "stdout",
     "output_type": "stream",
     "text": [
      "8->19->9->5->4->1->2->7->12\n"
     ]
    }
   ],
   "source": [
    "print(L)"
   ]
  },
  {
   "cell_type": "code",
   "execution_count": 431,
   "metadata": {},
   "outputs": [],
   "source": [
    "L.delete_head()"
   ]
  },
  {
   "cell_type": "code",
   "execution_count": 432,
   "metadata": {},
   "outputs": [
    {
     "name": "stdout",
     "output_type": "stream",
     "text": [
      "19->9->5->4->1->2->7->12\n"
     ]
    }
   ],
   "source": [
    "print(L)"
   ]
  },
  {
   "cell_type": "code",
   "execution_count": 433,
   "metadata": {},
   "outputs": [],
   "source": [
    "L.pop()"
   ]
  },
  {
   "cell_type": "code",
   "execution_count": 434,
   "metadata": {},
   "outputs": [
    {
     "name": "stdout",
     "output_type": "stream",
     "text": [
      "19->9->5->4->1->2->7\n"
     ]
    }
   ],
   "source": [
    "print(L)"
   ]
  },
  {
   "cell_type": "code",
   "execution_count": 435,
   "metadata": {},
   "outputs": [],
   "source": [
    "L.remove(2)"
   ]
  },
  {
   "cell_type": "code",
   "execution_count": 436,
   "metadata": {},
   "outputs": [
    {
     "name": "stdout",
     "output_type": "stream",
     "text": [
      "19->9->5->4->1->7\n"
     ]
    }
   ],
   "source": [
    "print(L)"
   ]
  },
  {
   "cell_type": "code",
   "execution_count": 437,
   "metadata": {},
   "outputs": [],
   "source": [
    "L.remove(5)"
   ]
  },
  {
   "cell_type": "code",
   "execution_count": 438,
   "metadata": {},
   "outputs": [
    {
     "name": "stdout",
     "output_type": "stream",
     "text": [
      "19->9->4->1->7\n"
     ]
    }
   ],
   "source": [
    "print(L)"
   ]
  },
  {
   "cell_type": "code",
   "execution_count": 439,
   "metadata": {},
   "outputs": [
    {
     "data": {
      "text/plain": [
       "'Item not found'"
      ]
     },
     "execution_count": 439,
     "metadata": {},
     "output_type": "execute_result"
    }
   ],
   "source": [
    "L.search(99)"
   ]
  },
  {
   "cell_type": "code",
   "execution_count": 440,
   "metadata": {},
   "outputs": [
    {
     "data": {
      "text/plain": [
       "4"
      ]
     },
     "execution_count": 440,
     "metadata": {},
     "output_type": "execute_result"
    }
   ],
   "source": [
    "L[2]"
   ]
  },
  {
   "cell_type": "code",
   "execution_count": 441,
   "metadata": {},
   "outputs": [
    {
     "data": {
      "text/plain": [
       "'Index not found'"
      ]
     },
     "execution_count": 441,
     "metadata": {},
     "output_type": "execute_result"
    }
   ],
   "source": [
    "L[5]"
   ]
  },
  {
   "cell_type": "code",
   "execution_count": 442,
   "metadata": {},
   "outputs": [
    {
     "data": {
      "text/plain": [
       "19"
      ]
     },
     "execution_count": 442,
     "metadata": {},
     "output_type": "execute_result"
    }
   ],
   "source": [
    "L.max()"
   ]
  },
  {
   "cell_type": "code",
   "execution_count": 443,
   "metadata": {},
   "outputs": [],
   "source": [
    "L.replace_max_value(89)"
   ]
  },
  {
   "cell_type": "code",
   "execution_count": 444,
   "metadata": {},
   "outputs": [
    {
     "name": "stdout",
     "output_type": "stream",
     "text": [
      "89->9->4->1->7\n"
     ]
    }
   ],
   "source": [
    "print(L)"
   ]
  },
  {
   "cell_type": "code",
   "execution_count": 445,
   "metadata": {},
   "outputs": [
    {
     "data": {
      "text/plain": [
       "10"
      ]
     },
     "execution_count": 445,
     "metadata": {},
     "output_type": "execute_result"
    }
   ],
   "source": [
    "L.sum_odd_index()"
   ]
  },
  {
   "cell_type": "code",
   "execution_count": 446,
   "metadata": {},
   "outputs": [],
   "source": [
    "L.reverse()"
   ]
  },
  {
   "cell_type": "code",
   "execution_count": 447,
   "metadata": {},
   "outputs": [
    {
     "name": "stdout",
     "output_type": "stream",
     "text": [
      "7->1->4->9->89\n"
     ]
    }
   ],
   "source": [
    "print(L)"
   ]
  },
  {
   "cell_type": "code",
   "execution_count": null,
   "metadata": {},
   "outputs": [],
   "source": []
  },
  {
   "cell_type": "code",
   "execution_count": null,
   "metadata": {},
   "outputs": [],
   "source": []
  }
 ],
 "metadata": {
  "kernelspec": {
   "display_name": "Python 3",
   "language": "python",
   "name": "python3"
  },
  "language_info": {
   "codemirror_mode": {
    "name": "ipython",
    "version": 3
   },
   "file_extension": ".py",
   "mimetype": "text/x-python",
   "name": "python",
   "nbconvert_exporter": "python",
   "pygments_lexer": "ipython3",
   "version": "3.10.12"
  },
  "orig_nbformat": 4
 },
 "nbformat": 4,
 "nbformat_minor": 2
}
