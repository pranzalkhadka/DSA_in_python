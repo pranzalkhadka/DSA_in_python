{
 "cells": [
  {
   "cell_type": "markdown",
   "metadata": {},
   "source": [
    "LinkedList are used in those cases where write operations are performed frequently because there is no need to shift all other elements like in array."
   ]
  },
  {
   "cell_type": "code",
   "execution_count": 51,
   "metadata": {},
   "outputs": [],
   "source": [
    "class Node:\n",
    "    def __init__(self,value):\n",
    "        self.data = value\n",
    "        self.next = None"
   ]
  },
  {
   "cell_type": "code",
   "execution_count": 52,
   "metadata": {},
   "outputs": [],
   "source": [
    "N1 = Node(2)\n",
    "N2 = Node(3)\n",
    "N3 = Node(4)"
   ]
  },
  {
   "cell_type": "code",
   "execution_count": 53,
   "metadata": {},
   "outputs": [
    {
     "name": "stdout",
     "output_type": "stream",
     "text": [
      "3\n"
     ]
    }
   ],
   "source": [
    "print(N2.data)"
   ]
  },
  {
   "cell_type": "code",
   "execution_count": 54,
   "metadata": {},
   "outputs": [],
   "source": [
    "N1.next = N2\n",
    "N2.next = N3"
   ]
  },
  {
   "cell_type": "code",
   "execution_count": 69,
   "metadata": {},
   "outputs": [],
   "source": [
    "class LinkedList:\n",
    "    def __init__(self):\n",
    "        #Setting head to None means linkedlist is currently empty\n",
    "        self.head = None\n",
    "        #n denotes the number of nodes in the linked list\n",
    "        self.n = 0\n",
    "\n",
    "    def __len__(self):\n",
    "        #len of linkedlist is simply the number of nodes in the linkedlist\n",
    "        return self.n\n",
    "    \n",
    "    def insert_head(self,value):\n",
    "        new_node = Node(value)\n",
    "        new_node.next = self.head\n",
    "        self.head = new_node\n",
    "        self.n = self.n+1\n",
    "\n",
    "    def append(self,value):\n",
    "        new_node = Node(value)\n",
    "\n",
    "        #If linkedlist is empty just make new node as head and return\n",
    "        if self.head == None:\n",
    "            self.head = new_node\n",
    "            self.n = self.n + 1\n",
    "            return\n",
    "\n",
    "        current = self.head\n",
    "\n",
    "        while(current.next != None):\n",
    "            current = current.next\n",
    "            #This loop takes us to the tail node. Now just make tail's next equal to new node and reassign new node as tail\n",
    "        current.next = new_node\n",
    "        self.n = self.n + 1\n",
    "\n",
    "    def insert(self,after,value):\n",
    "        new_node = Node(value)\n",
    "\n",
    "        current = self.head\n",
    "        while(current != None):\n",
    "            if current.data == after:\n",
    "                break\n",
    "            current = current.next\n",
    "\n",
    "        #If current != None , it means that the item has been found but if current == None, it means item was not found\n",
    "        if current != None:\n",
    "            new_node.next = current.next\n",
    "            current.next = new_node\n",
    "        else:\n",
    "            return \"Item not found\"\n",
    "\n",
    "\n",
    "    def __str__(self):\n",
    "        current = self.head\n",
    "        result =''\n",
    "\n",
    "        while(current != None):\n",
    "            result = result + str(current.data) + '->'\n",
    "            current = current.next\n",
    "            #current will contain None from tail node and the while loop will break\n",
    "\n",
    "        return result[:-2]\n"
   ]
  },
  {
   "cell_type": "code",
   "execution_count": 70,
   "metadata": {},
   "outputs": [],
   "source": [
    "L = LinkedList()"
   ]
  },
  {
   "cell_type": "code",
   "execution_count": 71,
   "metadata": {},
   "outputs": [],
   "source": [
    "L.insert_head(2)\n",
    "L.insert_head(5)\n",
    "L.insert_head(8)"
   ]
  },
  {
   "cell_type": "code",
   "execution_count": 72,
   "metadata": {},
   "outputs": [
    {
     "data": {
      "text/plain": [
       "3"
      ]
     },
     "execution_count": 72,
     "metadata": {},
     "output_type": "execute_result"
    }
   ],
   "source": [
    "len(L)"
   ]
  },
  {
   "cell_type": "code",
   "execution_count": 73,
   "metadata": {},
   "outputs": [
    {
     "name": "stdout",
     "output_type": "stream",
     "text": [
      "8->5->2\n"
     ]
    }
   ],
   "source": [
    "print(L)"
   ]
  },
  {
   "cell_type": "code",
   "execution_count": 74,
   "metadata": {},
   "outputs": [],
   "source": [
    "L.append(12)"
   ]
  },
  {
   "cell_type": "code",
   "execution_count": 75,
   "metadata": {},
   "outputs": [
    {
     "name": "stdout",
     "output_type": "stream",
     "text": [
      "8->5->2->12\n"
     ]
    }
   ],
   "source": [
    "print(L)"
   ]
  },
  {
   "cell_type": "code",
   "execution_count": 76,
   "metadata": {},
   "outputs": [],
   "source": [
    "L.insert(2,90)"
   ]
  },
  {
   "cell_type": "code",
   "execution_count": 77,
   "metadata": {},
   "outputs": [
    {
     "name": "stdout",
     "output_type": "stream",
     "text": [
      "8->5->2->90->12\n"
     ]
    }
   ],
   "source": [
    "print(L)"
   ]
  },
  {
   "cell_type": "code",
   "execution_count": null,
   "metadata": {},
   "outputs": [],
   "source": []
  }
 ],
 "metadata": {
  "kernelspec": {
   "display_name": "Python 3",
   "language": "python",
   "name": "python3"
  },
  "language_info": {
   "codemirror_mode": {
    "name": "ipython",
    "version": 3
   },
   "file_extension": ".py",
   "mimetype": "text/x-python",
   "name": "python",
   "nbconvert_exporter": "python",
   "pygments_lexer": "ipython3",
   "version": "3.10.12"
  },
  "orig_nbformat": 4
 },
 "nbformat": 4,
 "nbformat_minor": 2
}
