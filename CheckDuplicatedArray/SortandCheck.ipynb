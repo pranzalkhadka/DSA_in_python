{
 "cells": [
  {
   "cell_type": "code",
   "execution_count": 37,
   "metadata": {},
   "outputs": [],
   "source": [
    "arr1 = [1,1,1,3,3,4,3,2,4,2]\n",
    "arr2 = [1,2,3,1]\n",
    "arr3 = [1,2,3,4]"
   ]
  },
  {
   "cell_type": "code",
   "execution_count": 38,
   "metadata": {},
   "outputs": [],
   "source": [
    "class Solution:\n",
    "    def sort(self, arr):\n",
    "        for i in range(len(arr)):\n",
    "            a = arr[i]\n",
    "            for j in range(i+1,len(arr)):\n",
    "                if a > arr[j]:\n",
    "                    temp = a\n",
    "                    arr[i] = arr[j]\n",
    "                    arr[j] = temp\n",
    "        return arr\n",
    "    \n",
    "    def duplicate(self,arr):\n",
    "        arr = self.sort(arr)\n",
    "        for i in range(len(arr)-1):\n",
    "            a = arr[i]\n",
    "            b = arr[i+1]\n",
    "            if a == b:\n",
    "                return True\n",
    "        return False"
   ]
  },
  {
   "cell_type": "code",
   "execution_count": 39,
   "metadata": {},
   "outputs": [],
   "source": [
    "CheckDuplicate = Solution()"
   ]
  },
  {
   "cell_type": "code",
   "execution_count": 40,
   "metadata": {},
   "outputs": [
    {
     "name": "stdout",
     "output_type": "stream",
     "text": [
      "True\n",
      "True\n",
      "False\n"
     ]
    }
   ],
   "source": [
    "print(CheckDuplicate.duplicate(arr1))\n",
    "print(CheckDuplicate.duplicate(arr2))\n",
    "print(CheckDuplicate.duplicate(arr3))"
   ]
  },
  {
   "cell_type": "code",
   "execution_count": null,
   "metadata": {},
   "outputs": [],
   "source": []
  }
 ],
 "metadata": {
  "kernelspec": {
   "display_name": "Python 3",
   "language": "python",
   "name": "python3"
  },
  "language_info": {
   "codemirror_mode": {
    "name": "ipython",
    "version": 3
   },
   "file_extension": ".py",
   "mimetype": "text/x-python",
   "name": "python",
   "nbconvert_exporter": "python",
   "pygments_lexer": "ipython3",
   "version": "3.10.12"
  }
 },
 "nbformat": 4,
 "nbformat_minor": 2
}
