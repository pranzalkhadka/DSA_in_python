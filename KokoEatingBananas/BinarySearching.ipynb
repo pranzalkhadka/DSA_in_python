{
 "cells": [
  {
   "cell_type": "code",
   "execution_count": 1,
   "metadata": {},
   "outputs": [],
   "source": [
    "#If piles = [3,6,7,11] and h = 8, there are 4 piles and 8 hours to eat all of the piles of bananas\n",
    "#The problem is to find minimum eating speed k that koko can use to finish all piles of bananas within 8 hours\n",
    "#For eg. if k=1, totalTime = 3+6+7+11 == 27 which is > 8 .\n",
    "#k can go from 1 to 11 since 11 is the max value in the list"
   ]
  },
  {
   "cell_type": "code",
   "execution_count": 1,
   "metadata": {},
   "outputs": [],
   "source": [
    "import math\n",
    "class Solution(object):\n",
    "    def minEatingSpeed(self, piles, h):\n",
    "        l , r = 1 , max(piles)\n",
    "        result = r\n",
    "        while l<=r:\n",
    "            k = (l+r)//2\n",
    "            hours = 0\n",
    "            for p in piles:\n",
    "                hours += math.ceil(p/k)\n",
    "                #hours += math.ceil(p/float(k))\n",
    "\n",
    "            if hours <= h:\n",
    "                result = min(result,k)\n",
    "                r = k - 1\n",
    "            else:\n",
    "                l = k + 1\n",
    "        return result"
   ]
  },
  {
   "cell_type": "code",
   "execution_count": 2,
   "metadata": {},
   "outputs": [],
   "source": [
    "obj = Solution()"
   ]
  },
  {
   "cell_type": "code",
   "execution_count": 3,
   "metadata": {},
   "outputs": [],
   "source": [
    "piles = [3,6,7,11] \n",
    "h = 8"
   ]
  },
  {
   "cell_type": "code",
   "execution_count": 4,
   "metadata": {},
   "outputs": [
    {
     "data": {
      "text/plain": [
       "4"
      ]
     },
     "execution_count": 4,
     "metadata": {},
     "output_type": "execute_result"
    }
   ],
   "source": [
    "obj.minEatingSpeed(piles,h)"
   ]
  },
  {
   "cell_type": "code",
   "execution_count": null,
   "metadata": {},
   "outputs": [],
   "source": []
  }
 ],
 "metadata": {
  "kernelspec": {
   "display_name": "Python 3",
   "language": "python",
   "name": "python3"
  },
  "language_info": {
   "codemirror_mode": {
    "name": "ipython",
    "version": 3
   },
   "file_extension": ".py",
   "mimetype": "text/x-python",
   "name": "python",
   "nbconvert_exporter": "python",
   "pygments_lexer": "ipython3",
   "version": "3.10.12"
  }
 },
 "nbformat": 4,
 "nbformat_minor": 2
}
