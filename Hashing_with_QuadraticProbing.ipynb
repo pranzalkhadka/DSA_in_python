{
 "cells": [
  {
   "cell_type": "code",
   "execution_count": 18,
   "metadata": {},
   "outputs": [],
   "source": [
    "class Dictionary:\n",
    "    def __init__(self,size):\n",
    "        #size is the size of array to be used\n",
    "        self.size = size\n",
    "        #slots is the array used to store the keys\n",
    "        self.slots = [None] * self.size\n",
    "        #data is the array used to store the values\n",
    "        self.data = [None] * self.size\n",
    "\n",
    "    def hash_function(self,key):\n",
    "        #hash is a python function that returns hash value of integer, strings, floats and all immutable data types\n",
    "        #sometimes hash function can return negative hash value. So, absolute value is used\n",
    "        return abs(hash(key)) % self.size\n",
    "\n",
    "    def put(self,key,value):\n",
    "        hash_value = self.hash_function(key)\n",
    "\n",
    "        #If Slot is empty\n",
    "        if self.slots[hash_value] == None:\n",
    "            self.slots[hash_value] = key\n",
    "            self.data[hash_value] = value\n",
    "        else:\n",
    "            #If key is already present there, update the data array with the new value of the key\n",
    "            if self.slots[hash_value] == key:\n",
    "                self.data[hash_value] = value\n",
    "            else:\n",
    "                new_hash_value = self.rehash(hash_value)\n",
    "\n",
    "                while self.slots[new_hash_value] != None and self.slots[new_hash_value] != key:\n",
    "                    #Keep on calculating new hash_value until None is encountered which indicates free space or the same key is encountered in the array\n",
    "                    new_hash_value = self.rehash(new_hash_value)\n",
    "\n",
    "                #If this is None, then same key wasnt encountered rather an empty space was found\n",
    "                if self.slots[new_hash_value] == None:\n",
    "                    self.slots[new_hash_value] = key\n",
    "                    self.data[new_hash_value] = value\n",
    "                else:\n",
    "                    #In this case, same key was encountered in the array and we will replace its value in data array with new value\n",
    "                    self.data[new_hash_value] = value\n",
    "\n",
    "    def __setitem__(self,key,value):\n",
    "        #Magic method to insert key value using indexing\n",
    "        self.put(key,value)\n",
    "\n",
    "    def get(self,key):\n",
    "        start_position = self.hash_function(key)\n",
    "        current_position = start_position\n",
    "\n",
    "        #Traverse in the key array until a None is encountered because if there is a None the key cannot be after that in Linear probing\n",
    "        while self.slots[current_position] != None:\n",
    "            if self.slots[current_position] == key:\n",
    "                return self.data[current_position]\n",
    "            \n",
    "            current_position = self.rehash(current_position)\n",
    "\n",
    "            #If we traversed the entire array and still didnt find the key\n",
    "            if current_position == start_position:\n",
    "                return \"key Not found and Hash Table is full\"\n",
    "            \n",
    "        return \"Key not found\"\n",
    "\n",
    "    def __getitem__(self,key):\n",
    "        #Magic method to acces value by indexing key\n",
    "        return self.get(key)\n",
    "    \n",
    "    def __str__(self):\n",
    "        #Magic method to print the hash table as a dictionary\n",
    "        for i in range(len(self.slots)):\n",
    "            if self.slots[i] != None:\n",
    "                print(self.slots[i], \":\", self.data[i], end =' ')\n",
    "\n",
    "        return \"\"\n",
    "                \n",
    "\n",
    "    def rehash(self, old_hash):\n",
    "        i = 1\n",
    "        while self.slots[old_hash] is not None:\n",
    "            old_hash = (old_hash + i * i) % self.size\n",
    "            i += 1\n",
    "        return old_hash\n"
   ]
  },
  {
   "cell_type": "code",
   "execution_count": 19,
   "metadata": {},
   "outputs": [],
   "source": [
    "d = Dictionary(10)"
   ]
  },
  {
   "cell_type": "code",
   "execution_count": 20,
   "metadata": {},
   "outputs": [
    {
     "name": "stdout",
     "output_type": "stream",
     "text": [
      "\n"
     ]
    }
   ],
   "source": [
    "print(d)"
   ]
  },
  {
   "cell_type": "code",
   "execution_count": 21,
   "metadata": {},
   "outputs": [],
   "source": [
    "d[2] = \"Pranjal\"\n",
    "d[3] = \"Jack\"\n",
    "d[12] = \"Ram\""
   ]
  },
  {
   "cell_type": "code",
   "execution_count": 22,
   "metadata": {},
   "outputs": [
    {
     "data": {
      "text/plain": [
       "[None, None, 2, 3, None, None, None, 12, None, None]"
      ]
     },
     "execution_count": 22,
     "metadata": {},
     "output_type": "execute_result"
    }
   ],
   "source": [
    "d.slots"
   ]
  },
  {
   "cell_type": "code",
   "execution_count": 23,
   "metadata": {},
   "outputs": [
    {
     "data": {
      "text/plain": [
       "[None, None, 'Pranjal', 'Jack', None, None, None, 'Ram', None, None]"
      ]
     },
     "execution_count": 23,
     "metadata": {},
     "output_type": "execute_result"
    }
   ],
   "source": [
    "d.data"
   ]
  },
  {
   "cell_type": "code",
   "execution_count": null,
   "metadata": {},
   "outputs": [],
   "source": []
  }
 ],
 "metadata": {
  "kernelspec": {
   "display_name": "Python 3",
   "language": "python",
   "name": "python3"
  },
  "language_info": {
   "codemirror_mode": {
    "name": "ipython",
    "version": 3
   },
   "file_extension": ".py",
   "mimetype": "text/x-python",
   "name": "python",
   "nbconvert_exporter": "python",
   "pygments_lexer": "ipython3",
   "version": "3.10.12"
  },
  "orig_nbformat": 4
 },
 "nbformat": 4,
 "nbformat_minor": 2
}
